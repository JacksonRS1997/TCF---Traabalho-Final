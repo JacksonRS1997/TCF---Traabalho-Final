{
  "nbformat": 4,
  "nbformat_minor": 0,
  "metadata": {
    "colab": {
      "name": "Trabalho Final TCF - Jackson Ribeiro Souza - 17/0069834.ipynb",
      "provenance": [],
      "mount_file_id": "1jiF8dbJyuQSPC3Y9hPs4ZQ-s2o-EKHuS",
      "authorship_tag": "ABX9TyPaKlnepunHfWpEYcFD32Cf",
      "include_colab_link": true
    },
    "kernelspec": {
      "name": "python3",
      "display_name": "Python 3"
    },
    "language_info": {
      "name": "python"
    }
  },
  "cells": [
    {
      "cell_type": "markdown",
      "metadata": {
        "id": "view-in-github",
        "colab_type": "text"
      },
      "source": [
        "<a href=\"https://colab.research.google.com/github/JacksonRS1997/TCF---Traabalho-Final/blob/main/Trabalho_Final_TCF_Jackson_Ribeiro_Souza_17_0069834.ipynb\" target=\"_parent\"><img src=\"https://colab.research.google.com/assets/colab-badge.svg\" alt=\"Open In Colab\"/></a>"
      ]
    },
    {
      "cell_type": "code",
      "execution_count": 6,
      "metadata": {
        "id": "ZUmQPJTeXGBr"
      },
      "outputs": [],
      "source": [
        "import pandas as pd\n",
        "\n",
        "import plotly.express as px\n"
      ]
    },
    {
      "cell_type": "code",
      "source": [
        "import numpy as np"
      ],
      "metadata": {
        "id": "5nWSo4xXY3T8"
      },
      "execution_count": 7,
      "outputs": []
    },
    {
      "cell_type": "code",
      "source": [
        "import seaborn as sns"
      ],
      "metadata": {
        "id": "poKBlurxZJi9"
      },
      "execution_count": 8,
      "outputs": []
    },
    {
      "cell_type": "code",
      "source": [
        "Dados = pd.read_excel('/Valores Vencidos.xlsx')\n",
        "\n",
        "Dados\n"
      ],
      "metadata": {
        "colab": {
          "base_uri": "https://localhost:8080/",
          "height": 936
        },
        "id": "3Z0PY-FdXrdD",
        "outputId": "5248ef71-ce7c-4b7f-ff7d-fed729e78ece"
      },
      "execution_count": 10,
      "outputs": [
        {
          "output_type": "execute_result",
          "data": {
            "text/plain": [
              "                        Nome Cliente            Finalidade Operação Crédito  \\\n",
              "0            JULIANO BEUST GUIMARÃES        CRÉDITO AUTOMÁTICO ROTATIVO CAP   \n",
              "1                BRENO DA SILVA MOTA              RPL CUSTEIO AGRÍCOLA CCLA   \n",
              "2              JOÃO RODRIGUES CHAVES                       RENEGOCIAÇÃO III   \n",
              "3           ELIANE ELCI DIETER BUENO        CRÉDITO AUTOMÁTICO ROTATIVO CAP   \n",
              "4              EVANDRO ANDRE SCHMITZ   REPACTUAÇÃO CRÉDITO PESSOAL PRICE 4*   \n",
              "..                               ...                                    ...   \n",
              "94           MARCOS ANDRE DOS SANTOS  RENEGOCIAÇÃO CARTÃO E CHEQUE ESPECIAL   \n",
              "95              MARIA LUCIA FERREIRA   REPACTUAÇÃO CRÉDITO PESSOAL PRICE 4*   \n",
              "96        MATHEUS BARBOSA DA FONSECA                 CRÉDITO PESSOAL SICOOB   \n",
              "97  MONJOLO - BAR E RESTAURANTE LTDA        RENEG CAPITAL DE GIRO RES. 4782   \n",
              "98         NATANAEL PEREIRA DA SILVA                     VEÍCULOS USADOS PF   \n",
              "\n",
              "    Qtd. Vencido em até 30 Dias  Valor Vencido até 30 Dias  \n",
              "0                            29                  330179.42  \n",
              "1                            25                  109494.00  \n",
              "2                            20                   54212.54  \n",
              "3                            18                   52053.92  \n",
              "4                            17                   49972.53  \n",
              "..                          ...                        ...  \n",
              "94                            0                       0.00  \n",
              "95                            0                       0.00  \n",
              "96                            0                       0.00  \n",
              "97                            0                       0.00  \n",
              "98                            0                       0.00  \n",
              "\n",
              "[99 rows x 4 columns]"
            ],
            "text/html": [
              "\n",
              "  <div id=\"df-d48be0c2-0323-4965-bc5b-01d3ab33fb78\">\n",
              "    <div class=\"colab-df-container\">\n",
              "      <div>\n",
              "<style scoped>\n",
              "    .dataframe tbody tr th:only-of-type {\n",
              "        vertical-align: middle;\n",
              "    }\n",
              "\n",
              "    .dataframe tbody tr th {\n",
              "        vertical-align: top;\n",
              "    }\n",
              "\n",
              "    .dataframe thead th {\n",
              "        text-align: right;\n",
              "    }\n",
              "</style>\n",
              "<table border=\"1\" class=\"dataframe\">\n",
              "  <thead>\n",
              "    <tr style=\"text-align: right;\">\n",
              "      <th></th>\n",
              "      <th>Nome Cliente</th>\n",
              "      <th>Finalidade Operação Crédito</th>\n",
              "      <th>Qtd. Vencido em até 30 Dias</th>\n",
              "      <th>Valor Vencido até 30 Dias</th>\n",
              "    </tr>\n",
              "  </thead>\n",
              "  <tbody>\n",
              "    <tr>\n",
              "      <th>0</th>\n",
              "      <td>JULIANO BEUST GUIMARÃES</td>\n",
              "      <td>CRÉDITO AUTOMÁTICO ROTATIVO CAP</td>\n",
              "      <td>29</td>\n",
              "      <td>330179.42</td>\n",
              "    </tr>\n",
              "    <tr>\n",
              "      <th>1</th>\n",
              "      <td>BRENO DA SILVA MOTA</td>\n",
              "      <td>RPL CUSTEIO AGRÍCOLA CCLA</td>\n",
              "      <td>25</td>\n",
              "      <td>109494.00</td>\n",
              "    </tr>\n",
              "    <tr>\n",
              "      <th>2</th>\n",
              "      <td>JOÃO RODRIGUES CHAVES</td>\n",
              "      <td>RENEGOCIAÇÃO III</td>\n",
              "      <td>20</td>\n",
              "      <td>54212.54</td>\n",
              "    </tr>\n",
              "    <tr>\n",
              "      <th>3</th>\n",
              "      <td>ELIANE ELCI DIETER BUENO</td>\n",
              "      <td>CRÉDITO AUTOMÁTICO ROTATIVO CAP</td>\n",
              "      <td>18</td>\n",
              "      <td>52053.92</td>\n",
              "    </tr>\n",
              "    <tr>\n",
              "      <th>4</th>\n",
              "      <td>EVANDRO ANDRE SCHMITZ</td>\n",
              "      <td>REPACTUAÇÃO CRÉDITO PESSOAL PRICE 4*</td>\n",
              "      <td>17</td>\n",
              "      <td>49972.53</td>\n",
              "    </tr>\n",
              "    <tr>\n",
              "      <th>...</th>\n",
              "      <td>...</td>\n",
              "      <td>...</td>\n",
              "      <td>...</td>\n",
              "      <td>...</td>\n",
              "    </tr>\n",
              "    <tr>\n",
              "      <th>94</th>\n",
              "      <td>MARCOS ANDRE DOS SANTOS</td>\n",
              "      <td>RENEGOCIAÇÃO CARTÃO E CHEQUE ESPECIAL</td>\n",
              "      <td>0</td>\n",
              "      <td>0.00</td>\n",
              "    </tr>\n",
              "    <tr>\n",
              "      <th>95</th>\n",
              "      <td>MARIA LUCIA FERREIRA</td>\n",
              "      <td>REPACTUAÇÃO CRÉDITO PESSOAL PRICE 4*</td>\n",
              "      <td>0</td>\n",
              "      <td>0.00</td>\n",
              "    </tr>\n",
              "    <tr>\n",
              "      <th>96</th>\n",
              "      <td>MATHEUS BARBOSA DA FONSECA</td>\n",
              "      <td>CRÉDITO PESSOAL SICOOB</td>\n",
              "      <td>0</td>\n",
              "      <td>0.00</td>\n",
              "    </tr>\n",
              "    <tr>\n",
              "      <th>97</th>\n",
              "      <td>MONJOLO - BAR E RESTAURANTE LTDA</td>\n",
              "      <td>RENEG CAPITAL DE GIRO RES. 4782</td>\n",
              "      <td>0</td>\n",
              "      <td>0.00</td>\n",
              "    </tr>\n",
              "    <tr>\n",
              "      <th>98</th>\n",
              "      <td>NATANAEL PEREIRA DA SILVA</td>\n",
              "      <td>VEÍCULOS USADOS PF</td>\n",
              "      <td>0</td>\n",
              "      <td>0.00</td>\n",
              "    </tr>\n",
              "  </tbody>\n",
              "</table>\n",
              "<p>99 rows × 4 columns</p>\n",
              "</div>\n",
              "      <button class=\"colab-df-convert\" onclick=\"convertToInteractive('df-d48be0c2-0323-4965-bc5b-01d3ab33fb78')\"\n",
              "              title=\"Convert this dataframe to an interactive table.\"\n",
              "              style=\"display:none;\">\n",
              "        \n",
              "  <svg xmlns=\"http://www.w3.org/2000/svg\" height=\"24px\"viewBox=\"0 0 24 24\"\n",
              "       width=\"24px\">\n",
              "    <path d=\"M0 0h24v24H0V0z\" fill=\"none\"/>\n",
              "    <path d=\"M18.56 5.44l.94 2.06.94-2.06 2.06-.94-2.06-.94-.94-2.06-.94 2.06-2.06.94zm-11 1L8.5 8.5l.94-2.06 2.06-.94-2.06-.94L8.5 2.5l-.94 2.06-2.06.94zm10 10l.94 2.06.94-2.06 2.06-.94-2.06-.94-.94-2.06-.94 2.06-2.06.94z\"/><path d=\"M17.41 7.96l-1.37-1.37c-.4-.4-.92-.59-1.43-.59-.52 0-1.04.2-1.43.59L10.3 9.45l-7.72 7.72c-.78.78-.78 2.05 0 2.83L4 21.41c.39.39.9.59 1.41.59.51 0 1.02-.2 1.41-.59l7.78-7.78 2.81-2.81c.8-.78.8-2.07 0-2.86zM5.41 20L4 18.59l7.72-7.72 1.47 1.35L5.41 20z\"/>\n",
              "  </svg>\n",
              "      </button>\n",
              "      \n",
              "  <style>\n",
              "    .colab-df-container {\n",
              "      display:flex;\n",
              "      flex-wrap:wrap;\n",
              "      gap: 12px;\n",
              "    }\n",
              "\n",
              "    .colab-df-convert {\n",
              "      background-color: #E8F0FE;\n",
              "      border: none;\n",
              "      border-radius: 50%;\n",
              "      cursor: pointer;\n",
              "      display: none;\n",
              "      fill: #1967D2;\n",
              "      height: 32px;\n",
              "      padding: 0 0 0 0;\n",
              "      width: 32px;\n",
              "    }\n",
              "\n",
              "    .colab-df-convert:hover {\n",
              "      background-color: #E2EBFA;\n",
              "      box-shadow: 0px 1px 2px rgba(60, 64, 67, 0.3), 0px 1px 3px 1px rgba(60, 64, 67, 0.15);\n",
              "      fill: #174EA6;\n",
              "    }\n",
              "\n",
              "    [theme=dark] .colab-df-convert {\n",
              "      background-color: #3B4455;\n",
              "      fill: #D2E3FC;\n",
              "    }\n",
              "\n",
              "    [theme=dark] .colab-df-convert:hover {\n",
              "      background-color: #434B5C;\n",
              "      box-shadow: 0px 1px 3px 1px rgba(0, 0, 0, 0.15);\n",
              "      filter: drop-shadow(0px 1px 2px rgba(0, 0, 0, 0.3));\n",
              "      fill: #FFFFFF;\n",
              "    }\n",
              "  </style>\n",
              "\n",
              "      <script>\n",
              "        const buttonEl =\n",
              "          document.querySelector('#df-d48be0c2-0323-4965-bc5b-01d3ab33fb78 button.colab-df-convert');\n",
              "        buttonEl.style.display =\n",
              "          google.colab.kernel.accessAllowed ? 'block' : 'none';\n",
              "\n",
              "        async function convertToInteractive(key) {\n",
              "          const element = document.querySelector('#df-d48be0c2-0323-4965-bc5b-01d3ab33fb78');\n",
              "          const dataTable =\n",
              "            await google.colab.kernel.invokeFunction('convertToInteractive',\n",
              "                                                     [key], {});\n",
              "          if (!dataTable) return;\n",
              "\n",
              "          const docLinkHtml = 'Like what you see? Visit the ' +\n",
              "            '<a target=\"_blank\" href=https://colab.research.google.com/notebooks/data_table.ipynb>data table notebook</a>'\n",
              "            + ' to learn more about interactive tables.';\n",
              "          element.innerHTML = '';\n",
              "          dataTable['output_type'] = 'display_data';\n",
              "          await google.colab.output.renderOutput(dataTable, element);\n",
              "          const docLink = document.createElement('div');\n",
              "          docLink.innerHTML = docLinkHtml;\n",
              "          element.appendChild(docLink);\n",
              "        }\n",
              "      </script>\n",
              "    </div>\n",
              "  </div>\n",
              "  "
            ]
          },
          "metadata": {},
          "execution_count": 10
        }
      ]
    },
    {
      "cell_type": "markdown",
      "source": [
        "# Qual o prazo médio de dias vencidos das operações?"
      ],
      "metadata": {
        "id": "ekuPJ4Cfn3Vt"
      }
    },
    {
      "cell_type": "code",
      "source": [
        "prazo_medio = Dados['Qtd. Vencido em até 30 Dias'].sum()/99\n",
        "print(prazo_medio)\n"
      ],
      "metadata": {
        "colab": {
          "base_uri": "https://localhost:8080/"
        },
        "id": "dFAw7UHDrjoe",
        "outputId": "b8787220-6b30-435e-bcd9-a645b2df8722"
      },
      "execution_count": 11,
      "outputs": [
        {
          "output_type": "stream",
          "name": "stdout",
          "text": [
            "2.212121212121212\n"
          ]
        }
      ]
    },
    {
      "cell_type": "markdown",
      "source": [
        "Logo as operações apresentam um prazo médio de 2,21 dias vencidos dentro de um período de 30 dias."
      ],
      "metadata": {
        "id": "fUPWHhwAt26x"
      }
    },
    {
      "cell_type": "markdown",
      "source": [
        "# Qual o valor total do saldo devedor vencido das operações de crédito?"
      ],
      "metadata": {
        "id": "IM_zHXmAulHh"
      }
    },
    {
      "cell_type": "code",
      "source": [
        "Valor_total = Dados['Valor Vencido até 30 Dias'].sum()\n",
        "print(Valor_total)"
      ],
      "metadata": {
        "colab": {
          "base_uri": "https://localhost:8080/"
        },
        "id": "g5bzk-HxuzY0",
        "outputId": "655d451b-779b-4a9d-cb78-70849ed6ba79"
      },
      "execution_count": 12,
      "outputs": [
        {
          "output_type": "stream",
          "name": "stdout",
          "text": [
            "695645.9299999999\n"
          ]
        }
      ]
    },
    {
      "cell_type": "markdown",
      "source": [
        "Conforme foi apresentado o valor total do saldo devedor é de R$ 695.645,93."
      ],
      "metadata": {
        "id": "JwkWPdmhvmxO"
      }
    },
    {
      "cell_type": "markdown",
      "source": [
        "# Quais são os maiores saldos devedores vencidos ao decorrer do período de 30 dias?"
      ],
      "metadata": {
        "id": "IuXCnkV-vx_w"
      }
    },
    {
      "cell_type": "code",
      "source": [
        "px.bar(Dados, x=\"Qtd. Vencido em até 30 Dias\", y= \"Valor Vencido até 30 Dias\", color=\"Nome Cliente\")"
      ],
      "metadata": {
        "colab": {
          "base_uri": "https://localhost:8080/",
          "height": 542
        },
        "id": "X94fto9hv8OY",
        "outputId": "84f60c51-a30f-4ae4-9b9b-4dba17efab0c"
      },
      "execution_count": 13,
      "outputs": [
        {
          "output_type": "display_data",
          "data": {
            "text/html": [
              "<html>\n",
              "<head><meta charset=\"utf-8\" /></head>\n",
              "<body>\n",
              "    <div>            <script src=\"https://cdnjs.cloudflare.com/ajax/libs/mathjax/2.7.5/MathJax.js?config=TeX-AMS-MML_SVG\"></script><script type=\"text/javascript\">if (window.MathJax) {MathJax.Hub.Config({SVG: {font: \"STIX-Web\"}});}</script>                <script type=\"text/javascript\">window.PlotlyConfig = {MathJaxConfig: 'local'};</script>\n",
              "        <script src=\"https://cdn.plot.ly/plotly-2.8.3.min.js\"></script>                <div id=\"2b8d23bb-912c-4db7-9969-be763619370c\" class=\"plotly-graph-div\" style=\"height:525px; width:100%;\"></div>            <script type=\"text/javascript\">                                    window.PLOTLYENV=window.PLOTLYENV || {};                                    if (document.getElementById(\"2b8d23bb-912c-4db7-9969-be763619370c\")) {                    Plotly.newPlot(                        \"2b8d23bb-912c-4db7-9969-be763619370c\",                        [{\"alignmentgroup\":\"True\",\"hovertemplate\":\"Nome Cliente=JULIANO BEUST GUIMAR\\u00c3ES<br>Qtd. Vencido em at\\u00e9 30 Dias=%{x}<br>Valor Vencido at\\u00e9 30 Dias=%{y}<extra></extra>\",\"legendgroup\":\"JULIANO BEUST GUIMAR\\u00c3ES\",\"marker\":{\"color\":\"#636efa\",\"pattern\":{\"shape\":\"\"}},\"name\":\"JULIANO BEUST GUIMAR\\u00c3ES\",\"offsetgroup\":\"JULIANO BEUST GUIMAR\\u00c3ES\",\"orientation\":\"v\",\"showlegend\":true,\"textposition\":\"auto\",\"x\":[29],\"xaxis\":\"x\",\"y\":[330179.42],\"yaxis\":\"y\",\"type\":\"bar\"},{\"alignmentgroup\":\"True\",\"hovertemplate\":\"Nome Cliente=BRENO DA SILVA MOTA<br>Qtd. Vencido em at\\u00e9 30 Dias=%{x}<br>Valor Vencido at\\u00e9 30 Dias=%{y}<extra></extra>\",\"legendgroup\":\"BRENO DA SILVA MOTA\",\"marker\":{\"color\":\"#EF553B\",\"pattern\":{\"shape\":\"\"}},\"name\":\"BRENO DA SILVA MOTA\",\"offsetgroup\":\"BRENO DA SILVA MOTA\",\"orientation\":\"v\",\"showlegend\":true,\"textposition\":\"auto\",\"x\":[25],\"xaxis\":\"x\",\"y\":[109494.0],\"yaxis\":\"y\",\"type\":\"bar\"},{\"alignmentgroup\":\"True\",\"hovertemplate\":\"Nome Cliente=JO\\u00c3O RODRIGUES CHAVES<br>Qtd. Vencido em at\\u00e9 30 Dias=%{x}<br>Valor Vencido at\\u00e9 30 Dias=%{y}<extra></extra>\",\"legendgroup\":\"JO\\u00c3O RODRIGUES CHAVES\",\"marker\":{\"color\":\"#00cc96\",\"pattern\":{\"shape\":\"\"}},\"name\":\"JO\\u00c3O RODRIGUES CHAVES\",\"offsetgroup\":\"JO\\u00c3O RODRIGUES CHAVES\",\"orientation\":\"v\",\"showlegend\":true,\"textposition\":\"auto\",\"x\":[20],\"xaxis\":\"x\",\"y\":[54212.54],\"yaxis\":\"y\",\"type\":\"bar\"},{\"alignmentgroup\":\"True\",\"hovertemplate\":\"Nome Cliente=ELIANE ELCI DIETER BUENO<br>Qtd. Vencido em at\\u00e9 30 Dias=%{x}<br>Valor Vencido at\\u00e9 30 Dias=%{y}<extra></extra>\",\"legendgroup\":\"ELIANE ELCI DIETER BUENO\",\"marker\":{\"color\":\"#ab63fa\",\"pattern\":{\"shape\":\"\"}},\"name\":\"ELIANE ELCI DIETER BUENO\",\"offsetgroup\":\"ELIANE ELCI DIETER BUENO\",\"orientation\":\"v\",\"showlegend\":true,\"textposition\":\"auto\",\"x\":[18],\"xaxis\":\"x\",\"y\":[52053.92],\"yaxis\":\"y\",\"type\":\"bar\"},{\"alignmentgroup\":\"True\",\"hovertemplate\":\"Nome Cliente=EVANDRO ANDRE SCHMITZ<br>Qtd. Vencido em at\\u00e9 30 Dias=%{x}<br>Valor Vencido at\\u00e9 30 Dias=%{y}<extra></extra>\",\"legendgroup\":\"EVANDRO ANDRE SCHMITZ\",\"marker\":{\"color\":\"#FFA15A\",\"pattern\":{\"shape\":\"\"}},\"name\":\"EVANDRO ANDRE SCHMITZ\",\"offsetgroup\":\"EVANDRO ANDRE SCHMITZ\",\"orientation\":\"v\",\"showlegend\":true,\"textposition\":\"auto\",\"x\":[17],\"xaxis\":\"x\",\"y\":[49972.53],\"yaxis\":\"y\",\"type\":\"bar\"},{\"alignmentgroup\":\"True\",\"hovertemplate\":\"Nome Cliente=MAURO MOURA DE OLIVEIRA<br>Qtd. Vencido em at\\u00e9 30 Dias=%{x}<br>Valor Vencido at\\u00e9 30 Dias=%{y}<extra></extra>\",\"legendgroup\":\"MAURO MOURA DE OLIVEIRA\",\"marker\":{\"color\":\"#19d3f3\",\"pattern\":{\"shape\":\"\"}},\"name\":\"MAURO MOURA DE OLIVEIRA\",\"offsetgroup\":\"MAURO MOURA DE OLIVEIRA\",\"orientation\":\"v\",\"showlegend\":true,\"textposition\":\"auto\",\"x\":[16],\"xaxis\":\"x\",\"y\":[25331.6],\"yaxis\":\"y\",\"type\":\"bar\"},{\"alignmentgroup\":\"True\",\"hovertemplate\":\"Nome Cliente=JUSCELINA CASARIN BOLIGON<br>Qtd. Vencido em at\\u00e9 30 Dias=%{x}<br>Valor Vencido at\\u00e9 30 Dias=%{y}<extra></extra>\",\"legendgroup\":\"JUSCELINA CASARIN BOLIGON\",\"marker\":{\"color\":\"#FF6692\",\"pattern\":{\"shape\":\"\"}},\"name\":\"JUSCELINA CASARIN BOLIGON\",\"offsetgroup\":\"JUSCELINA CASARIN BOLIGON\",\"orientation\":\"v\",\"showlegend\":true,\"textposition\":\"auto\",\"x\":[15],\"xaxis\":\"x\",\"y\":[21371.62],\"yaxis\":\"y\",\"type\":\"bar\"},{\"alignmentgroup\":\"True\",\"hovertemplate\":\"Nome Cliente=ALBINO POOTZ<br>Qtd. Vencido em at\\u00e9 30 Dias=%{x}<br>Valor Vencido at\\u00e9 30 Dias=%{y}<extra></extra>\",\"legendgroup\":\"ALBINO POOTZ\",\"marker\":{\"color\":\"#B6E880\",\"pattern\":{\"shape\":\"\"}},\"name\":\"ALBINO POOTZ\",\"offsetgroup\":\"ALBINO POOTZ\",\"orientation\":\"v\",\"showlegend\":true,\"textposition\":\"auto\",\"x\":[14],\"xaxis\":\"x\",\"y\":[20373.28],\"yaxis\":\"y\",\"type\":\"bar\"},{\"alignmentgroup\":\"True\",\"hovertemplate\":\"Nome Cliente=KIT FESTA LANCHES E RESTAURANTE LTDA<br>Qtd. Vencido em at\\u00e9 30 Dias=%{x}<br>Valor Vencido at\\u00e9 30 Dias=%{y}<extra></extra>\",\"legendgroup\":\"KIT FESTA LANCHES E RESTAURANTE LTDA\",\"marker\":{\"color\":\"#FF97FF\",\"pattern\":{\"shape\":\"\"}},\"name\":\"KIT FESTA LANCHES E RESTAURANTE LTDA\",\"offsetgroup\":\"KIT FESTA LANCHES E RESTAURANTE LTDA\",\"orientation\":\"v\",\"showlegend\":true,\"textposition\":\"auto\",\"x\":[13],\"xaxis\":\"x\",\"y\":[14649.75],\"yaxis\":\"y\",\"type\":\"bar\"},{\"alignmentgroup\":\"True\",\"hovertemplate\":\"Nome Cliente=COALA BRINQUEDOS & CONFECCOES EIRELI<br>Qtd. Vencido em at\\u00e9 30 Dias=%{x}<br>Valor Vencido at\\u00e9 30 Dias=%{y}<extra></extra>\",\"legendgroup\":\"COALA BRINQUEDOS & CONFECCOES EIRELI\",\"marker\":{\"color\":\"#FECB52\",\"pattern\":{\"shape\":\"\"}},\"name\":\"COALA BRINQUEDOS & CONFECCOES EIRELI\",\"offsetgroup\":\"COALA BRINQUEDOS & CONFECCOES EIRELI\",\"orientation\":\"v\",\"showlegend\":true,\"textposition\":\"auto\",\"x\":[8],\"xaxis\":\"x\",\"y\":[4307.9],\"yaxis\":\"y\",\"type\":\"bar\"},{\"alignmentgroup\":\"True\",\"hovertemplate\":\"Nome Cliente=CABANA PAULISTA RESTAURANTE LTDA<br>Qtd. Vencido em at\\u00e9 30 Dias=%{x}<br>Valor Vencido at\\u00e9 30 Dias=%{y}<extra></extra>\",\"legendgroup\":\"CABANA PAULISTA RESTAURANTE LTDA\",\"marker\":{\"color\":\"#636efa\",\"pattern\":{\"shape\":\"\"}},\"name\":\"CABANA PAULISTA RESTAURANTE LTDA\",\"offsetgroup\":\"CABANA PAULISTA RESTAURANTE LTDA\",\"orientation\":\"v\",\"showlegend\":true,\"textposition\":\"auto\",\"x\":[3],\"xaxis\":\"x\",\"y\":[2885.2],\"yaxis\":\"y\",\"type\":\"bar\"},{\"alignmentgroup\":\"True\",\"hovertemplate\":\"Nome Cliente=GABRIELA GOMES BERNADINO<br>Qtd. Vencido em at\\u00e9 30 Dias=%{x}<br>Valor Vencido at\\u00e9 30 Dias=%{y}<extra></extra>\",\"legendgroup\":\"GABRIELA GOMES BERNADINO\",\"marker\":{\"color\":\"#EF553B\",\"pattern\":{\"shape\":\"\"}},\"name\":\"GABRIELA GOMES BERNADINO\",\"offsetgroup\":\"GABRIELA GOMES BERNADINO\",\"orientation\":\"v\",\"showlegend\":true,\"textposition\":\"auto\",\"x\":[2],\"xaxis\":\"x\",\"y\":[1728.78],\"yaxis\":\"y\",\"type\":\"bar\"},{\"alignmentgroup\":\"True\",\"hovertemplate\":\"Nome Cliente=CARLOS J. ALVES<br>Qtd. Vencido em at\\u00e9 30 Dias=%{x}<br>Valor Vencido at\\u00e9 30 Dias=%{y}<extra></extra>\",\"legendgroup\":\"CARLOS J. ALVES\",\"marker\":{\"color\":\"#00cc96\",\"pattern\":{\"shape\":\"\"}},\"name\":\"CARLOS J. ALVES\",\"offsetgroup\":\"CARLOS J. ALVES\",\"orientation\":\"v\",\"showlegend\":true,\"textposition\":\"auto\",\"x\":[1],\"xaxis\":\"x\",\"y\":[838.91],\"yaxis\":\"y\",\"type\":\"bar\"},{\"alignmentgroup\":\"True\",\"hovertemplate\":\"Nome Cliente=JACQUELINE APARECIDA LOPES MEDEIROS<br>Qtd. Vencido em at\\u00e9 30 Dias=%{x}<br>Valor Vencido at\\u00e9 30 Dias=%{y}<extra></extra>\",\"legendgroup\":\"JACQUELINE APARECIDA LOPES MEDEIROS\",\"marker\":{\"color\":\"#ab63fa\",\"pattern\":{\"shape\":\"\"}},\"name\":\"JACQUELINE APARECIDA LOPES MEDEIROS\",\"offsetgroup\":\"JACQUELINE APARECIDA LOPES MEDEIROS\",\"orientation\":\"v\",\"showlegend\":true,\"textposition\":\"auto\",\"x\":[1],\"xaxis\":\"x\",\"y\":[692.8],\"yaxis\":\"y\",\"type\":\"bar\"},{\"alignmentgroup\":\"True\",\"hovertemplate\":\"Nome Cliente=LRS & LANCHES COMERCIO DE ALIMENTOS EIRELI - ME<br>Qtd. Vencido em at\\u00e9 30 Dias=%{x}<br>Valor Vencido at\\u00e9 30 Dias=%{y}<extra></extra>\",\"legendgroup\":\"LRS & LANCHES COMERCIO DE ALIMENTOS EIRELI - ME\",\"marker\":{\"color\":\"#FFA15A\",\"pattern\":{\"shape\":\"\"}},\"name\":\"LRS & LANCHES COMERCIO DE ALIMENTOS EIRELI - ME\",\"offsetgroup\":\"LRS & LANCHES COMERCIO DE ALIMENTOS EIRELI - ME\",\"orientation\":\"v\",\"showlegend\":true,\"textposition\":\"auto\",\"x\":[1],\"xaxis\":\"x\",\"y\":[637.88],\"yaxis\":\"y\",\"type\":\"bar\"},{\"alignmentgroup\":\"True\",\"hovertemplate\":\"Nome Cliente=FORMAER COMERCIO E SERVICOS LTDA<br>Qtd. Vencido em at\\u00e9 30 Dias=%{x}<br>Valor Vencido at\\u00e9 30 Dias=%{y}<extra></extra>\",\"legendgroup\":\"FORMAER COMERCIO E SERVICOS LTDA\",\"marker\":{\"color\":\"#19d3f3\",\"pattern\":{\"shape\":\"\"}},\"name\":\"FORMAER COMERCIO E SERVICOS LTDA\",\"offsetgroup\":\"FORMAER COMERCIO E SERVICOS LTDA\",\"orientation\":\"v\",\"showlegend\":true,\"textposition\":\"auto\",\"x\":[1],\"xaxis\":\"x\",\"y\":[615.03],\"yaxis\":\"y\",\"type\":\"bar\"},{\"alignmentgroup\":\"True\",\"hovertemplate\":\"Nome Cliente=CAPITA CURSOS E TREINAMENTOS LTDA<br>Qtd. Vencido em at\\u00e9 30 Dias=%{x}<br>Valor Vencido at\\u00e9 30 Dias=%{y}<extra></extra>\",\"legendgroup\":\"CAPITA CURSOS E TREINAMENTOS LTDA\",\"marker\":{\"color\":\"#FF6692\",\"pattern\":{\"shape\":\"\"}},\"name\":\"CAPITA CURSOS E TREINAMENTOS LTDA\",\"offsetgroup\":\"CAPITA CURSOS E TREINAMENTOS LTDA\",\"orientation\":\"v\",\"showlegend\":true,\"textposition\":\"auto\",\"x\":[1],\"xaxis\":\"x\",\"y\":[610.43],\"yaxis\":\"y\",\"type\":\"bar\"},{\"alignmentgroup\":\"True\",\"hovertemplate\":\"Nome Cliente=ANTONIO MARIA DOS SANTOS NETO<br>Qtd. Vencido em at\\u00e9 30 Dias=%{x}<br>Valor Vencido at\\u00e9 30 Dias=%{y}<extra></extra>\",\"legendgroup\":\"ANTONIO MARIA DOS SANTOS NETO\",\"marker\":{\"color\":\"#B6E880\",\"pattern\":{\"shape\":\"\"}},\"name\":\"ANTONIO MARIA DOS SANTOS NETO\",\"offsetgroup\":\"ANTONIO MARIA DOS SANTOS NETO\",\"orientation\":\"v\",\"showlegend\":true,\"textposition\":\"auto\",\"x\":[1],\"xaxis\":\"x\",\"y\":[515.65],\"yaxis\":\"y\",\"type\":\"bar\"},{\"alignmentgroup\":\"True\",\"hovertemplate\":\"Nome Cliente=GLAUCE CANDIDA LOPES FRANCO<br>Qtd. Vencido em at\\u00e9 30 Dias=%{x}<br>Valor Vencido at\\u00e9 30 Dias=%{y}<extra></extra>\",\"legendgroup\":\"GLAUCE CANDIDA LOPES FRANCO\",\"marker\":{\"color\":\"#FF97FF\",\"pattern\":{\"shape\":\"\"}},\"name\":\"GLAUCE CANDIDA LOPES FRANCO\",\"offsetgroup\":\"GLAUCE CANDIDA LOPES FRANCO\",\"orientation\":\"v\",\"showlegend\":true,\"textposition\":\"auto\",\"x\":[1],\"xaxis\":\"x\",\"y\":[503.68],\"yaxis\":\"y\",\"type\":\"bar\"},{\"alignmentgroup\":\"True\",\"hovertemplate\":\"Nome Cliente=MAXPEDRAS COMERCIO E SERVICOS EM MARMORE EIRELI<br>Qtd. Vencido em at\\u00e9 30 Dias=%{x}<br>Valor Vencido at\\u00e9 30 Dias=%{y}<extra></extra>\",\"legendgroup\":\"MAXPEDRAS COMERCIO E SERVICOS EM MARMORE EIRELI\",\"marker\":{\"color\":\"#FECB52\",\"pattern\":{\"shape\":\"\"}},\"name\":\"MAXPEDRAS COMERCIO E SERVICOS EM MARMORE EIRELI\",\"offsetgroup\":\"MAXPEDRAS COMERCIO E SERVICOS EM MARMORE EIRELI\",\"orientation\":\"v\",\"showlegend\":true,\"textposition\":\"auto\",\"x\":[1],\"xaxis\":\"x\",\"y\":[451.59],\"yaxis\":\"y\",\"type\":\"bar\"},{\"alignmentgroup\":\"True\",\"hovertemplate\":\"Nome Cliente=HOLLYWOOD RESTAURANTE E LOUNGE BAR EIRELI<br>Qtd. Vencido em at\\u00e9 30 Dias=%{x}<br>Valor Vencido at\\u00e9 30 Dias=%{y}<extra></extra>\",\"legendgroup\":\"HOLLYWOOD RESTAURANTE E LOUNGE BAR EIRELI\",\"marker\":{\"color\":\"#636efa\",\"pattern\":{\"shape\":\"\"}},\"name\":\"HOLLYWOOD RESTAURANTE E LOUNGE BAR EIRELI\",\"offsetgroup\":\"HOLLYWOOD RESTAURANTE E LOUNGE BAR EIRELI\",\"orientation\":\"v\",\"showlegend\":true,\"textposition\":\"auto\",\"x\":[1],\"xaxis\":\"x\",\"y\":[440.14],\"yaxis\":\"y\",\"type\":\"bar\"},{\"alignmentgroup\":\"True\",\"hovertemplate\":\"Nome Cliente=ABS CONSTRUCOES EIRELI<br>Qtd. Vencido em at\\u00e9 30 Dias=%{x}<br>Valor Vencido at\\u00e9 30 Dias=%{y}<extra></extra>\",\"legendgroup\":\"ABS CONSTRUCOES EIRELI\",\"marker\":{\"color\":\"#EF553B\",\"pattern\":{\"shape\":\"\"}},\"name\":\"ABS CONSTRUCOES EIRELI\",\"offsetgroup\":\"ABS CONSTRUCOES EIRELI\",\"orientation\":\"v\",\"showlegend\":true,\"textposition\":\"auto\",\"x\":[1],\"xaxis\":\"x\",\"y\":[403.23],\"yaxis\":\"y\",\"type\":\"bar\"},{\"alignmentgroup\":\"True\",\"hovertemplate\":\"Nome Cliente=ANDRE LUIZ CAMPOS DA SILVA<br>Qtd. Vencido em at\\u00e9 30 Dias=%{x}<br>Valor Vencido at\\u00e9 30 Dias=%{y}<extra></extra>\",\"legendgroup\":\"ANDRE LUIZ CAMPOS DA SILVA\",\"marker\":{\"color\":\"#00cc96\",\"pattern\":{\"shape\":\"\"}},\"name\":\"ANDRE LUIZ CAMPOS DA SILVA\",\"offsetgroup\":\"ANDRE LUIZ CAMPOS DA SILVA\",\"orientation\":\"v\",\"showlegend\":true,\"textposition\":\"auto\",\"x\":[1],\"xaxis\":\"x\",\"y\":[356.23],\"yaxis\":\"y\",\"type\":\"bar\"},{\"alignmentgroup\":\"True\",\"hovertemplate\":\"Nome Cliente=FELIPE HENRIQUE DOS SANTOS OLIVEIRA<br>Qtd. Vencido em at\\u00e9 30 Dias=%{x}<br>Valor Vencido at\\u00e9 30 Dias=%{y}<extra></extra>\",\"legendgroup\":\"FELIPE HENRIQUE DOS SANTOS OLIVEIRA\",\"marker\":{\"color\":\"#ab63fa\",\"pattern\":{\"shape\":\"\"}},\"name\":\"FELIPE HENRIQUE DOS SANTOS OLIVEIRA\",\"offsetgroup\":\"FELIPE HENRIQUE DOS SANTOS OLIVEIRA\",\"orientation\":\"v\",\"showlegend\":true,\"textposition\":\"auto\",\"x\":[1],\"xaxis\":\"x\",\"y\":[254.43],\"yaxis\":\"y\",\"type\":\"bar\"},{\"alignmentgroup\":\"True\",\"hovertemplate\":\"Nome Cliente=GLAUCIA SOUZA DE OLIVEIRA DA SILVA<br>Qtd. Vencido em at\\u00e9 30 Dias=%{x}<br>Valor Vencido at\\u00e9 30 Dias=%{y}<extra></extra>\",\"legendgroup\":\"GLAUCIA SOUZA DE OLIVEIRA DA SILVA\",\"marker\":{\"color\":\"#FFA15A\",\"pattern\":{\"shape\":\"\"}},\"name\":\"GLAUCIA SOUZA DE OLIVEIRA DA SILVA\",\"offsetgroup\":\"GLAUCIA SOUZA DE OLIVEIRA DA SILVA\",\"orientation\":\"v\",\"showlegend\":true,\"textposition\":\"auto\",\"x\":[1],\"xaxis\":\"x\",\"y\":[253.29],\"yaxis\":\"y\",\"type\":\"bar\"},{\"alignmentgroup\":\"True\",\"hovertemplate\":\"Nome Cliente=LUIS LEANDRO RODRIGUES XAVIER<br>Qtd. Vencido em at\\u00e9 30 Dias=%{x}<br>Valor Vencido at\\u00e9 30 Dias=%{y}<extra></extra>\",\"legendgroup\":\"LUIS LEANDRO RODRIGUES XAVIER\",\"marker\":{\"color\":\"#19d3f3\",\"pattern\":{\"shape\":\"\"}},\"name\":\"LUIS LEANDRO RODRIGUES XAVIER\",\"offsetgroup\":\"LUIS LEANDRO RODRIGUES XAVIER\",\"orientation\":\"v\",\"showlegend\":true,\"textposition\":\"auto\",\"x\":[1],\"xaxis\":\"x\",\"y\":[221.58],\"yaxis\":\"y\",\"type\":\"bar\"},{\"alignmentgroup\":\"True\",\"hovertemplate\":\"Nome Cliente=AMILTON GRAMACHO DE CARVALHO JUNIOR<br>Qtd. Vencido em at\\u00e9 30 Dias=%{x}<br>Valor Vencido at\\u00e9 30 Dias=%{y}<extra></extra>\",\"legendgroup\":\"AMILTON GRAMACHO DE CARVALHO JUNIOR\",\"marker\":{\"color\":\"#FF6692\",\"pattern\":{\"shape\":\"\"}},\"name\":\"AMILTON GRAMACHO DE CARVALHO JUNIOR\",\"offsetgroup\":\"AMILTON GRAMACHO DE CARVALHO JUNIOR\",\"orientation\":\"v\",\"showlegend\":true,\"textposition\":\"auto\",\"x\":[1],\"xaxis\":\"x\",\"y\":[220.38],\"yaxis\":\"y\",\"type\":\"bar\"},{\"alignmentgroup\":\"True\",\"hovertemplate\":\"Nome Cliente=ADAILTON DA SILVA ARAUJO<br>Qtd. Vencido em at\\u00e9 30 Dias=%{x}<br>Valor Vencido at\\u00e9 30 Dias=%{y}<extra></extra>\",\"legendgroup\":\"ADAILTON DA SILVA ARAUJO\",\"marker\":{\"color\":\"#B6E880\",\"pattern\":{\"shape\":\"\"}},\"name\":\"ADAILTON DA SILVA ARAUJO\",\"offsetgroup\":\"ADAILTON DA SILVA ARAUJO\",\"orientation\":\"v\",\"showlegend\":true,\"textposition\":\"auto\",\"x\":[1],\"xaxis\":\"x\",\"y\":[213.79],\"yaxis\":\"y\",\"type\":\"bar\"},{\"alignmentgroup\":\"True\",\"hovertemplate\":\"Nome Cliente=MARCOS NOBRIGA DANTAS<br>Qtd. Vencido em at\\u00e9 30 Dias=%{x}<br>Valor Vencido at\\u00e9 30 Dias=%{y}<extra></extra>\",\"legendgroup\":\"MARCOS NOBRIGA DANTAS\",\"marker\":{\"color\":\"#FF97FF\",\"pattern\":{\"shape\":\"\"}},\"name\":\"MARCOS NOBRIGA DANTAS\",\"offsetgroup\":\"MARCOS NOBRIGA DANTAS\",\"orientation\":\"v\",\"showlegend\":true,\"textposition\":\"auto\",\"x\":[1],\"xaxis\":\"x\",\"y\":[196.09],\"yaxis\":\"y\",\"type\":\"bar\"},{\"alignmentgroup\":\"True\",\"hovertemplate\":\"Nome Cliente=CRISTIANO CASSAFUZ PIMENTEL<br>Qtd. Vencido em at\\u00e9 30 Dias=%{x}<br>Valor Vencido at\\u00e9 30 Dias=%{y}<extra></extra>\",\"legendgroup\":\"CRISTIANO CASSAFUZ PIMENTEL\",\"marker\":{\"color\":\"#FECB52\",\"pattern\":{\"shape\":\"\"}},\"name\":\"CRISTIANO CASSAFUZ PIMENTEL\",\"offsetgroup\":\"CRISTIANO CASSAFUZ PIMENTEL\",\"orientation\":\"v\",\"showlegend\":true,\"textposition\":\"auto\",\"x\":[1],\"xaxis\":\"x\",\"y\":[192.03],\"yaxis\":\"y\",\"type\":\"bar\"},{\"alignmentgroup\":\"True\",\"hovertemplate\":\"Nome Cliente=ITAMAR DE MORAES PEREIRA<br>Qtd. Vencido em at\\u00e9 30 Dias=%{x}<br>Valor Vencido at\\u00e9 30 Dias=%{y}<extra></extra>\",\"legendgroup\":\"ITAMAR DE MORAES PEREIRA\",\"marker\":{\"color\":\"#636efa\",\"pattern\":{\"shape\":\"\"}},\"name\":\"ITAMAR DE MORAES PEREIRA\",\"offsetgroup\":\"ITAMAR DE MORAES PEREIRA\",\"orientation\":\"v\",\"showlegend\":true,\"textposition\":\"auto\",\"x\":[1],\"xaxis\":\"x\",\"y\":[171.92],\"yaxis\":\"y\",\"type\":\"bar\"},{\"alignmentgroup\":\"True\",\"hovertemplate\":\"Nome Cliente=ANTONIO DA CONCEICAO DA CRUZ<br>Qtd. Vencido em at\\u00e9 30 Dias=%{x}<br>Valor Vencido at\\u00e9 30 Dias=%{y}<extra></extra>\",\"legendgroup\":\"ANTONIO DA CONCEICAO DA CRUZ\",\"marker\":{\"color\":\"#EF553B\",\"pattern\":{\"shape\":\"\"}},\"name\":\"ANTONIO DA CONCEICAO DA CRUZ\",\"offsetgroup\":\"ANTONIO DA CONCEICAO DA CRUZ\",\"orientation\":\"v\",\"showlegend\":true,\"textposition\":\"auto\",\"x\":[1],\"xaxis\":\"x\",\"y\":[166.34],\"yaxis\":\"y\",\"type\":\"bar\"},{\"alignmentgroup\":\"True\",\"hovertemplate\":\"Nome Cliente=DJACIR GUIMARAES DE ASSIS<br>Qtd. Vencido em at\\u00e9 30 Dias=%{x}<br>Valor Vencido at\\u00e9 30 Dias=%{y}<extra></extra>\",\"legendgroup\":\"DJACIR GUIMARAES DE ASSIS\",\"marker\":{\"color\":\"#00cc96\",\"pattern\":{\"shape\":\"\"}},\"name\":\"DJACIR GUIMARAES DE ASSIS\",\"offsetgroup\":\"DJACIR GUIMARAES DE ASSIS\",\"orientation\":\"v\",\"showlegend\":true,\"textposition\":\"auto\",\"x\":[1],\"xaxis\":\"x\",\"y\":[141.17],\"yaxis\":\"y\",\"type\":\"bar\"},{\"alignmentgroup\":\"True\",\"hovertemplate\":\"Nome Cliente=MATHEUS LOPES COSTA<br>Qtd. Vencido em at\\u00e9 30 Dias=%{x}<br>Valor Vencido at\\u00e9 30 Dias=%{y}<extra></extra>\",\"legendgroup\":\"MATHEUS LOPES COSTA\",\"marker\":{\"color\":\"#ab63fa\",\"pattern\":{\"shape\":\"\"}},\"name\":\"MATHEUS LOPES COSTA\",\"offsetgroup\":\"MATHEUS LOPES COSTA\",\"orientation\":\"v\",\"showlegend\":true,\"textposition\":\"auto\",\"x\":[1],\"xaxis\":\"x\",\"y\":[138.1],\"yaxis\":\"y\",\"type\":\"bar\"},{\"alignmentgroup\":\"True\",\"hovertemplate\":\"Nome Cliente=OLAVO INACIO DOS SANTOS NETO<br>Qtd. Vencido em at\\u00e9 30 Dias=%{x}<br>Valor Vencido at\\u00e9 30 Dias=%{y}<extra></extra>\",\"legendgroup\":\"OLAVO INACIO DOS SANTOS NETO\",\"marker\":{\"color\":\"#FFA15A\",\"pattern\":{\"shape\":\"\"}},\"name\":\"OLAVO INACIO DOS SANTOS NETO\",\"offsetgroup\":\"OLAVO INACIO DOS SANTOS NETO\",\"orientation\":\"v\",\"showlegend\":true,\"textposition\":\"auto\",\"x\":[1],\"xaxis\":\"x\",\"y\":[119.44],\"yaxis\":\"y\",\"type\":\"bar\"},{\"alignmentgroup\":\"True\",\"hovertemplate\":\"Nome Cliente=JACKSON PEREIRA<br>Qtd. Vencido em at\\u00e9 30 Dias=%{x}<br>Valor Vencido at\\u00e9 30 Dias=%{y}<extra></extra>\",\"legendgroup\":\"JACKSON PEREIRA\",\"marker\":{\"color\":\"#19d3f3\",\"pattern\":{\"shape\":\"\"}},\"name\":\"JACKSON PEREIRA\",\"offsetgroup\":\"JACKSON PEREIRA\",\"orientation\":\"v\",\"showlegend\":true,\"textposition\":\"auto\",\"x\":[1],\"xaxis\":\"x\",\"y\":[112.38],\"yaxis\":\"y\",\"type\":\"bar\"},{\"alignmentgroup\":\"True\",\"hovertemplate\":\"Nome Cliente=MARIA CRISTINA ARAGAO LOIOLA ALVES<br>Qtd. Vencido em at\\u00e9 30 Dias=%{x}<br>Valor Vencido at\\u00e9 30 Dias=%{y}<extra></extra>\",\"legendgroup\":\"MARIA CRISTINA ARAGAO LOIOLA ALVES\",\"marker\":{\"color\":\"#FF6692\",\"pattern\":{\"shape\":\"\"}},\"name\":\"MARIA CRISTINA ARAGAO LOIOLA ALVES\",\"offsetgroup\":\"MARIA CRISTINA ARAGAO LOIOLA ALVES\",\"orientation\":\"v\",\"showlegend\":true,\"textposition\":\"auto\",\"x\":[1],\"xaxis\":\"x\",\"y\":[108.81],\"yaxis\":\"y\",\"type\":\"bar\"},{\"alignmentgroup\":\"True\",\"hovertemplate\":\"Nome Cliente=MARCOS AURELIO BAHIA DA SILVA JUNIOR<br>Qtd. Vencido em at\\u00e9 30 Dias=%{x}<br>Valor Vencido at\\u00e9 30 Dias=%{y}<extra></extra>\",\"legendgroup\":\"MARCOS AURELIO BAHIA DA SILVA JUNIOR\",\"marker\":{\"color\":\"#B6E880\",\"pattern\":{\"shape\":\"\"}},\"name\":\"MARCOS AURELIO BAHIA DA SILVA JUNIOR\",\"offsetgroup\":\"MARCOS AURELIO BAHIA DA SILVA JUNIOR\",\"orientation\":\"v\",\"showlegend\":true,\"textposition\":\"auto\",\"x\":[1],\"xaxis\":\"x\",\"y\":[104.36],\"yaxis\":\"y\",\"type\":\"bar\"},{\"alignmentgroup\":\"True\",\"hovertemplate\":\"Nome Cliente=IVONE GONCALVES COSTA<br>Qtd. Vencido em at\\u00e9 30 Dias=%{x}<br>Valor Vencido at\\u00e9 30 Dias=%{y}<extra></extra>\",\"legendgroup\":\"IVONE GONCALVES COSTA\",\"marker\":{\"color\":\"#FF97FF\",\"pattern\":{\"shape\":\"\"}},\"name\":\"IVONE GONCALVES COSTA\",\"offsetgroup\":\"IVONE GONCALVES COSTA\",\"orientation\":\"v\",\"showlegend\":true,\"textposition\":\"auto\",\"x\":[1],\"xaxis\":\"x\",\"y\":[72.56],\"yaxis\":\"y\",\"type\":\"bar\"},{\"alignmentgroup\":\"True\",\"hovertemplate\":\"Nome Cliente=LUCILEIA FRANCISCO<br>Qtd. Vencido em at\\u00e9 30 Dias=%{x}<br>Valor Vencido at\\u00e9 30 Dias=%{y}<extra></extra>\",\"legendgroup\":\"LUCILEIA FRANCISCO\",\"marker\":{\"color\":\"#FECB52\",\"pattern\":{\"shape\":\"\"}},\"name\":\"LUCILEIA FRANCISCO\",\"offsetgroup\":\"LUCILEIA FRANCISCO\",\"orientation\":\"v\",\"showlegend\":true,\"textposition\":\"auto\",\"x\":[1],\"xaxis\":\"x\",\"y\":[72.02],\"yaxis\":\"y\",\"type\":\"bar\"},{\"alignmentgroup\":\"True\",\"hovertemplate\":\"Nome Cliente=ANA PAULA SANTOS DA SILVA<br>Qtd. Vencido em at\\u00e9 30 Dias=%{x}<br>Valor Vencido at\\u00e9 30 Dias=%{y}<extra></extra>\",\"legendgroup\":\"ANA PAULA SANTOS DA SILVA\",\"marker\":{\"color\":\"#636efa\",\"pattern\":{\"shape\":\"\"}},\"name\":\"ANA PAULA SANTOS DA SILVA\",\"offsetgroup\":\"ANA PAULA SANTOS DA SILVA\",\"orientation\":\"v\",\"showlegend\":true,\"textposition\":\"auto\",\"x\":[1],\"xaxis\":\"x\",\"y\":[66.51],\"yaxis\":\"y\",\"type\":\"bar\"},{\"alignmentgroup\":\"True\",\"hovertemplate\":\"Nome Cliente=JMV COMERCIO VAREJISTA DE MOVEIS EIRELI<br>Qtd. Vencido em at\\u00e9 30 Dias=%{x}<br>Valor Vencido at\\u00e9 30 Dias=%{y}<extra></extra>\",\"legendgroup\":\"JMV COMERCIO VAREJISTA DE MOVEIS EIRELI\",\"marker\":{\"color\":\"#EF553B\",\"pattern\":{\"shape\":\"\"}},\"name\":\"JMV COMERCIO VAREJISTA DE MOVEIS EIRELI\",\"offsetgroup\":\"JMV COMERCIO VAREJISTA DE MOVEIS EIRELI\",\"orientation\":\"v\",\"showlegend\":true,\"textposition\":\"auto\",\"x\":[1],\"xaxis\":\"x\",\"y\":[56.74],\"yaxis\":\"y\",\"type\":\"bar\"},{\"alignmentgroup\":\"True\",\"hovertemplate\":\"Nome Cliente=MARINA VOGADO MILHOMENS FERNANDES<br>Qtd. Vencido em at\\u00e9 30 Dias=%{x}<br>Valor Vencido at\\u00e9 30 Dias=%{y}<extra></extra>\",\"legendgroup\":\"MARINA VOGADO MILHOMENS FERNANDES\",\"marker\":{\"color\":\"#00cc96\",\"pattern\":{\"shape\":\"\"}},\"name\":\"MARINA VOGADO MILHOMENS FERNANDES\",\"offsetgroup\":\"MARINA VOGADO MILHOMENS FERNANDES\",\"orientation\":\"v\",\"showlegend\":true,\"textposition\":\"auto\",\"x\":[1],\"xaxis\":\"x\",\"y\":[43.93],\"yaxis\":\"y\",\"type\":\"bar\"},{\"alignmentgroup\":\"True\",\"hovertemplate\":\"Nome Cliente=GLEISON NEVES DE SOUSA<br>Qtd. Vencido em at\\u00e9 30 Dias=%{x}<br>Valor Vencido at\\u00e9 30 Dias=%{y}<extra></extra>\",\"legendgroup\":\"GLEISON NEVES DE SOUSA\",\"marker\":{\"color\":\"#ab63fa\",\"pattern\":{\"shape\":\"\"}},\"name\":\"GLEISON NEVES DE SOUSA\",\"offsetgroup\":\"GLEISON NEVES DE SOUSA\",\"orientation\":\"v\",\"showlegend\":true,\"textposition\":\"auto\",\"x\":[1],\"xaxis\":\"x\",\"y\":[40.13],\"yaxis\":\"y\",\"type\":\"bar\"},{\"alignmentgroup\":\"True\",\"hovertemplate\":\"Nome Cliente=CICERO FERREIRA DOS SANTOS<br>Qtd. Vencido em at\\u00e9 30 Dias=%{x}<br>Valor Vencido at\\u00e9 30 Dias=%{y}<extra></extra>\",\"legendgroup\":\"CICERO FERREIRA DOS SANTOS\",\"marker\":{\"color\":\"#FFA15A\",\"pattern\":{\"shape\":\"\"}},\"name\":\"CICERO FERREIRA DOS SANTOS\",\"offsetgroup\":\"CICERO FERREIRA DOS SANTOS\",\"orientation\":\"v\",\"showlegend\":true,\"textposition\":\"auto\",\"x\":[1],\"xaxis\":\"x\",\"y\":[20.04],\"yaxis\":\"y\",\"type\":\"bar\"},{\"alignmentgroup\":\"True\",\"hovertemplate\":\"Nome Cliente=JOSINEI REZENDE DE MACEDO<br>Qtd. Vencido em at\\u00e9 30 Dias=%{x}<br>Valor Vencido at\\u00e9 30 Dias=%{y}<extra></extra>\",\"legendgroup\":\"JOSINEI REZENDE DE MACEDO\",\"marker\":{\"color\":\"#19d3f3\",\"pattern\":{\"shape\":\"\"}},\"name\":\"JOSINEI REZENDE DE MACEDO\",\"offsetgroup\":\"JOSINEI REZENDE DE MACEDO\",\"orientation\":\"v\",\"showlegend\":true,\"textposition\":\"auto\",\"x\":[1],\"xaxis\":\"x\",\"y\":[19.1],\"yaxis\":\"y\",\"type\":\"bar\"},{\"alignmentgroup\":\"True\",\"hovertemplate\":\"Nome Cliente=JEAN JUNIOR PEREIRA<br>Qtd. Vencido em at\\u00e9 30 Dias=%{x}<br>Valor Vencido at\\u00e9 30 Dias=%{y}<extra></extra>\",\"legendgroup\":\"JEAN JUNIOR PEREIRA\",\"marker\":{\"color\":\"#FF6692\",\"pattern\":{\"shape\":\"\"}},\"name\":\"JEAN JUNIOR PEREIRA\",\"offsetgroup\":\"JEAN JUNIOR PEREIRA\",\"orientation\":\"v\",\"showlegend\":true,\"textposition\":\"auto\",\"x\":[1],\"xaxis\":\"x\",\"y\":[7.33],\"yaxis\":\"y\",\"type\":\"bar\"},{\"alignmentgroup\":\"True\",\"hovertemplate\":\"Nome Cliente=FILIPE MOREIRA AMORIM 04960161132<br>Qtd. Vencido em at\\u00e9 30 Dias=%{x}<br>Valor Vencido at\\u00e9 30 Dias=%{y}<extra></extra>\",\"legendgroup\":\"FILIPE MOREIRA AMORIM 04960161132\",\"marker\":{\"color\":\"#B6E880\",\"pattern\":{\"shape\":\"\"}},\"name\":\"FILIPE MOREIRA AMORIM 04960161132\",\"offsetgroup\":\"FILIPE MOREIRA AMORIM 04960161132\",\"orientation\":\"v\",\"showlegend\":true,\"textposition\":\"auto\",\"x\":[1],\"xaxis\":\"x\",\"y\":[5.04],\"yaxis\":\"y\",\"type\":\"bar\"},{\"alignmentgroup\":\"True\",\"hovertemplate\":\"Nome Cliente=MARIA GABRIELA BARBOSA TEIXEIRA<br>Qtd. Vencido em at\\u00e9 30 Dias=%{x}<br>Valor Vencido at\\u00e9 30 Dias=%{y}<extra></extra>\",\"legendgroup\":\"MARIA GABRIELA BARBOSA TEIXEIRA\",\"marker\":{\"color\":\"#FF97FF\",\"pattern\":{\"shape\":\"\"}},\"name\":\"MARIA GABRIELA BARBOSA TEIXEIRA\",\"offsetgroup\":\"MARIA GABRIELA BARBOSA TEIXEIRA\",\"orientation\":\"v\",\"showlegend\":true,\"textposition\":\"auto\",\"x\":[1],\"xaxis\":\"x\",\"y\":[1.26],\"yaxis\":\"y\",\"type\":\"bar\"},{\"alignmentgroup\":\"True\",\"hovertemplate\":\"Nome Cliente=ADERSINO OLIVEIRA DA FONSECA<br>Qtd. Vencido em at\\u00e9 30 Dias=%{x}<br>Valor Vencido at\\u00e9 30 Dias=%{y}<extra></extra>\",\"legendgroup\":\"ADERSINO OLIVEIRA DA FONSECA\",\"marker\":{\"color\":\"#FECB52\",\"pattern\":{\"shape\":\"\"}},\"name\":\"ADERSINO OLIVEIRA DA FONSECA\",\"offsetgroup\":\"ADERSINO OLIVEIRA DA FONSECA\",\"orientation\":\"v\",\"showlegend\":true,\"textposition\":\"auto\",\"x\":[1],\"xaxis\":\"x\",\"y\":[0.54],\"yaxis\":\"y\",\"type\":\"bar\"},{\"alignmentgroup\":\"True\",\"hovertemplate\":\"Nome Cliente=CLAUDIA MARIA DOS ANJOS RODRIGUES<br>Qtd. Vencido em at\\u00e9 30 Dias=%{x}<br>Valor Vencido at\\u00e9 30 Dias=%{y}<extra></extra>\",\"legendgroup\":\"CLAUDIA MARIA DOS ANJOS RODRIGUES\",\"marker\":{\"color\":\"#636efa\",\"pattern\":{\"shape\":\"\"}},\"name\":\"CLAUDIA MARIA DOS ANJOS RODRIGUES\",\"offsetgroup\":\"CLAUDIA MARIA DOS ANJOS RODRIGUES\",\"orientation\":\"v\",\"showlegend\":true,\"textposition\":\"auto\",\"x\":[1],\"xaxis\":\"x\",\"y\":[0.51],\"yaxis\":\"y\",\"type\":\"bar\"},{\"alignmentgroup\":\"True\",\"hovertemplate\":\"Nome Cliente=ADRIANO RAMOS DE FREITAS<br>Qtd. Vencido em at\\u00e9 30 Dias=%{x}<br>Valor Vencido at\\u00e9 30 Dias=%{y}<extra></extra>\",\"legendgroup\":\"ADRIANO RAMOS DE FREITAS\",\"marker\":{\"color\":\"#EF553B\",\"pattern\":{\"shape\":\"\"}},\"name\":\"ADRIANO RAMOS DE FREITAS\",\"offsetgroup\":\"ADRIANO RAMOS DE FREITAS\",\"orientation\":\"v\",\"showlegend\":true,\"textposition\":\"auto\",\"x\":[0],\"xaxis\":\"x\",\"y\":[0.0],\"yaxis\":\"y\",\"type\":\"bar\"},{\"alignmentgroup\":\"True\",\"hovertemplate\":\"Nome Cliente=ALESSANDRO FERREIRA ARAUJO<br>Qtd. Vencido em at\\u00e9 30 Dias=%{x}<br>Valor Vencido at\\u00e9 30 Dias=%{y}<extra></extra>\",\"legendgroup\":\"ALESSANDRO FERREIRA ARAUJO\",\"marker\":{\"color\":\"#00cc96\",\"pattern\":{\"shape\":\"\"}},\"name\":\"ALESSANDRO FERREIRA ARAUJO\",\"offsetgroup\":\"ALESSANDRO FERREIRA ARAUJO\",\"orientation\":\"v\",\"showlegend\":true,\"textposition\":\"auto\",\"x\":[0],\"xaxis\":\"x\",\"y\":[0.0],\"yaxis\":\"y\",\"type\":\"bar\"},{\"alignmentgroup\":\"True\",\"hovertemplate\":\"Nome Cliente=AMANDA GONCALVES DE SOUSA LTDA<br>Qtd. Vencido em at\\u00e9 30 Dias=%{x}<br>Valor Vencido at\\u00e9 30 Dias=%{y}<extra></extra>\",\"legendgroup\":\"AMANDA GONCALVES DE SOUSA LTDA\",\"marker\":{\"color\":\"#ab63fa\",\"pattern\":{\"shape\":\"\"}},\"name\":\"AMANDA GONCALVES DE SOUSA LTDA\",\"offsetgroup\":\"AMANDA GONCALVES DE SOUSA LTDA\",\"orientation\":\"v\",\"showlegend\":true,\"textposition\":\"auto\",\"x\":[0],\"xaxis\":\"x\",\"y\":[0.0],\"yaxis\":\"y\",\"type\":\"bar\"},{\"alignmentgroup\":\"True\",\"hovertemplate\":\"Nome Cliente=ATRIO PILATES STUDIO LTDA<br>Qtd. Vencido em at\\u00e9 30 Dias=%{x}<br>Valor Vencido at\\u00e9 30 Dias=%{y}<extra></extra>\",\"legendgroup\":\"ATRIO PILATES STUDIO LTDA\",\"marker\":{\"color\":\"#FFA15A\",\"pattern\":{\"shape\":\"\"}},\"name\":\"ATRIO PILATES STUDIO LTDA\",\"offsetgroup\":\"ATRIO PILATES STUDIO LTDA\",\"orientation\":\"v\",\"showlegend\":true,\"textposition\":\"auto\",\"x\":[0],\"xaxis\":\"x\",\"y\":[0.0],\"yaxis\":\"y\",\"type\":\"bar\"},{\"alignmentgroup\":\"True\",\"hovertemplate\":\"Nome Cliente=BONS SABORES COMERCIO DE ALIMENTOS E MERCADO EIREL<br>Qtd. Vencido em at\\u00e9 30 Dias=%{x}<br>Valor Vencido at\\u00e9 30 Dias=%{y}<extra></extra>\",\"legendgroup\":\"BONS SABORES COMERCIO DE ALIMENTOS E MERCADO EIREL\",\"marker\":{\"color\":\"#19d3f3\",\"pattern\":{\"shape\":\"\"}},\"name\":\"BONS SABORES COMERCIO DE ALIMENTOS E MERCADO EIREL\",\"offsetgroup\":\"BONS SABORES COMERCIO DE ALIMENTOS E MERCADO EIREL\",\"orientation\":\"v\",\"showlegend\":true,\"textposition\":\"auto\",\"x\":[0],\"xaxis\":\"x\",\"y\":[0.0],\"yaxis\":\"y\",\"type\":\"bar\"},{\"alignmentgroup\":\"True\",\"hovertemplate\":\"Nome Cliente=BRENO RIBEIRO DE FREITAS<br>Qtd. Vencido em at\\u00e9 30 Dias=%{x}<br>Valor Vencido at\\u00e9 30 Dias=%{y}<extra></extra>\",\"legendgroup\":\"BRENO RIBEIRO DE FREITAS\",\"marker\":{\"color\":\"#FF6692\",\"pattern\":{\"shape\":\"\"}},\"name\":\"BRENO RIBEIRO DE FREITAS\",\"offsetgroup\":\"BRENO RIBEIRO DE FREITAS\",\"orientation\":\"v\",\"showlegend\":true,\"textposition\":\"auto\",\"x\":[0],\"xaxis\":\"x\",\"y\":[0.0],\"yaxis\":\"y\",\"type\":\"bar\"},{\"alignmentgroup\":\"True\",\"hovertemplate\":\"Nome Cliente=CARLOS ALBERTO DE JESUS SCHMIDT<br>Qtd. Vencido em at\\u00e9 30 Dias=%{x}<br>Valor Vencido at\\u00e9 30 Dias=%{y}<extra></extra>\",\"legendgroup\":\"CARLOS ALBERTO DE JESUS SCHMIDT\",\"marker\":{\"color\":\"#B6E880\",\"pattern\":{\"shape\":\"\"}},\"name\":\"CARLOS ALBERTO DE JESUS SCHMIDT\",\"offsetgroup\":\"CARLOS ALBERTO DE JESUS SCHMIDT\",\"orientation\":\"v\",\"showlegend\":true,\"textposition\":\"auto\",\"x\":[0],\"xaxis\":\"x\",\"y\":[0.0],\"yaxis\":\"y\",\"type\":\"bar\"},{\"alignmentgroup\":\"True\",\"hovertemplate\":\"Nome Cliente=CARLOS ANDRE ANJOS SANTOS 05416971533<br>Qtd. Vencido em at\\u00e9 30 Dias=%{x}<br>Valor Vencido at\\u00e9 30 Dias=%{y}<extra></extra>\",\"legendgroup\":\"CARLOS ANDRE ANJOS SANTOS 05416971533\",\"marker\":{\"color\":\"#FF97FF\",\"pattern\":{\"shape\":\"\"}},\"name\":\"CARLOS ANDRE ANJOS SANTOS 05416971533\",\"offsetgroup\":\"CARLOS ANDRE ANJOS SANTOS 05416971533\",\"orientation\":\"v\",\"showlegend\":true,\"textposition\":\"auto\",\"x\":[0],\"xaxis\":\"x\",\"y\":[0.0],\"yaxis\":\"y\",\"type\":\"bar\"},{\"alignmentgroup\":\"True\",\"hovertemplate\":\"Nome Cliente=CLESTIANE DOS REIS SANCHES<br>Qtd. Vencido em at\\u00e9 30 Dias=%{x}<br>Valor Vencido at\\u00e9 30 Dias=%{y}<extra></extra>\",\"legendgroup\":\"CLESTIANE DOS REIS SANCHES\",\"marker\":{\"color\":\"#FECB52\",\"pattern\":{\"shape\":\"\"}},\"name\":\"CLESTIANE DOS REIS SANCHES\",\"offsetgroup\":\"CLESTIANE DOS REIS SANCHES\",\"orientation\":\"v\",\"showlegend\":true,\"textposition\":\"auto\",\"x\":[0],\"xaxis\":\"x\",\"y\":[0.0],\"yaxis\":\"y\",\"type\":\"bar\"},{\"alignmentgroup\":\"True\",\"hovertemplate\":\"Nome Cliente=CONSTRUTORA AXE CAPITAL LTDA<br>Qtd. Vencido em at\\u00e9 30 Dias=%{x}<br>Valor Vencido at\\u00e9 30 Dias=%{y}<extra></extra>\",\"legendgroup\":\"CONSTRUTORA AXE CAPITAL LTDA\",\"marker\":{\"color\":\"#636efa\",\"pattern\":{\"shape\":\"\"}},\"name\":\"CONSTRUTORA AXE CAPITAL LTDA\",\"offsetgroup\":\"CONSTRUTORA AXE CAPITAL LTDA\",\"orientation\":\"v\",\"showlegend\":true,\"textposition\":\"auto\",\"x\":[0],\"xaxis\":\"x\",\"y\":[0.0],\"yaxis\":\"y\",\"type\":\"bar\"},{\"alignmentgroup\":\"True\",\"hovertemplate\":\"Nome Cliente=COPIADORA JAUENSE LTDA<br>Qtd. Vencido em at\\u00e9 30 Dias=%{x}<br>Valor Vencido at\\u00e9 30 Dias=%{y}<extra></extra>\",\"legendgroup\":\"COPIADORA JAUENSE LTDA\",\"marker\":{\"color\":\"#EF553B\",\"pattern\":{\"shape\":\"\"}},\"name\":\"COPIADORA JAUENSE LTDA\",\"offsetgroup\":\"COPIADORA JAUENSE LTDA\",\"orientation\":\"v\",\"showlegend\":true,\"textposition\":\"auto\",\"x\":[0],\"xaxis\":\"x\",\"y\":[0.0],\"yaxis\":\"y\",\"type\":\"bar\"},{\"alignmentgroup\":\"True\",\"hovertemplate\":\"Nome Cliente=DARLAINE BANDEIRA DE LIMA<br>Qtd. Vencido em at\\u00e9 30 Dias=%{x}<br>Valor Vencido at\\u00e9 30 Dias=%{y}<extra></extra>\",\"legendgroup\":\"DARLAINE BANDEIRA DE LIMA\",\"marker\":{\"color\":\"#00cc96\",\"pattern\":{\"shape\":\"\"}},\"name\":\"DARLAINE BANDEIRA DE LIMA\",\"offsetgroup\":\"DARLAINE BANDEIRA DE LIMA\",\"orientation\":\"v\",\"showlegend\":true,\"textposition\":\"auto\",\"x\":[0],\"xaxis\":\"x\",\"y\":[0.0],\"yaxis\":\"y\",\"type\":\"bar\"},{\"alignmentgroup\":\"True\",\"hovertemplate\":\"Nome Cliente=DEBORA XAVIER DE SOUZA<br>Qtd. Vencido em at\\u00e9 30 Dias=%{x}<br>Valor Vencido at\\u00e9 30 Dias=%{y}<extra></extra>\",\"legendgroup\":\"DEBORA XAVIER DE SOUZA\",\"marker\":{\"color\":\"#ab63fa\",\"pattern\":{\"shape\":\"\"}},\"name\":\"DEBORA XAVIER DE SOUZA\",\"offsetgroup\":\"DEBORA XAVIER DE SOUZA\",\"orientation\":\"v\",\"showlegend\":true,\"textposition\":\"auto\",\"x\":[0],\"xaxis\":\"x\",\"y\":[0.0],\"yaxis\":\"y\",\"type\":\"bar\"},{\"alignmentgroup\":\"True\",\"hovertemplate\":\"Nome Cliente=DEIVIDE BENICIO FERREIRA<br>Qtd. Vencido em at\\u00e9 30 Dias=%{x}<br>Valor Vencido at\\u00e9 30 Dias=%{y}<extra></extra>\",\"legendgroup\":\"DEIVIDE BENICIO FERREIRA\",\"marker\":{\"color\":\"#FFA15A\",\"pattern\":{\"shape\":\"\"}},\"name\":\"DEIVIDE BENICIO FERREIRA\",\"offsetgroup\":\"DEIVIDE BENICIO FERREIRA\",\"orientation\":\"v\",\"showlegend\":true,\"textposition\":\"auto\",\"x\":[0],\"xaxis\":\"x\",\"y\":[0.0],\"yaxis\":\"y\",\"type\":\"bar\"},{\"alignmentgroup\":\"True\",\"hovertemplate\":\"Nome Cliente=DENIO JOSE ARAUJO<br>Qtd. Vencido em at\\u00e9 30 Dias=%{x}<br>Valor Vencido at\\u00e9 30 Dias=%{y}<extra></extra>\",\"legendgroup\":\"DENIO JOSE ARAUJO\",\"marker\":{\"color\":\"#19d3f3\",\"pattern\":{\"shape\":\"\"}},\"name\":\"DENIO JOSE ARAUJO\",\"offsetgroup\":\"DENIO JOSE ARAUJO\",\"orientation\":\"v\",\"showlegend\":true,\"textposition\":\"auto\",\"x\":[0],\"xaxis\":\"x\",\"y\":[0.0],\"yaxis\":\"y\",\"type\":\"bar\"},{\"alignmentgroup\":\"True\",\"hovertemplate\":\"Nome Cliente=EDUARDO BANG<br>Qtd. Vencido em at\\u00e9 30 Dias=%{x}<br>Valor Vencido at\\u00e9 30 Dias=%{y}<extra></extra>\",\"legendgroup\":\"EDUARDO BANG\",\"marker\":{\"color\":\"#FF6692\",\"pattern\":{\"shape\":\"\"}},\"name\":\"EDUARDO BANG\",\"offsetgroup\":\"EDUARDO BANG\",\"orientation\":\"v\",\"showlegend\":true,\"textposition\":\"auto\",\"x\":[0],\"xaxis\":\"x\",\"y\":[0.0],\"yaxis\":\"y\",\"type\":\"bar\"},{\"alignmentgroup\":\"True\",\"hovertemplate\":\"Nome Cliente=ELIAS RAPACHI<br>Qtd. Vencido em at\\u00e9 30 Dias=%{x}<br>Valor Vencido at\\u00e9 30 Dias=%{y}<extra></extra>\",\"legendgroup\":\"ELIAS RAPACHI\",\"marker\":{\"color\":\"#B6E880\",\"pattern\":{\"shape\":\"\"}},\"name\":\"ELIAS RAPACHI\",\"offsetgroup\":\"ELIAS RAPACHI\",\"orientation\":\"v\",\"showlegend\":true,\"textposition\":\"auto\",\"x\":[0],\"xaxis\":\"x\",\"y\":[0.0],\"yaxis\":\"y\",\"type\":\"bar\"},{\"alignmentgroup\":\"True\",\"hovertemplate\":\"Nome Cliente=EMERSON CORDEIRO DA SILVA<br>Qtd. Vencido em at\\u00e9 30 Dias=%{x}<br>Valor Vencido at\\u00e9 30 Dias=%{y}<extra></extra>\",\"legendgroup\":\"EMERSON CORDEIRO DA SILVA\",\"marker\":{\"color\":\"#FF97FF\",\"pattern\":{\"shape\":\"\"}},\"name\":\"EMERSON CORDEIRO DA SILVA\",\"offsetgroup\":\"EMERSON CORDEIRO DA SILVA\",\"orientation\":\"v\",\"showlegend\":true,\"textposition\":\"auto\",\"x\":[0],\"xaxis\":\"x\",\"y\":[0.0],\"yaxis\":\"y\",\"type\":\"bar\"},{\"alignmentgroup\":\"True\",\"hovertemplate\":\"Nome Cliente=ERLI ROQUE DE GODOY<br>Qtd. Vencido em at\\u00e9 30 Dias=%{x}<br>Valor Vencido at\\u00e9 30 Dias=%{y}<extra></extra>\",\"legendgroup\":\"ERLI ROQUE DE GODOY\",\"marker\":{\"color\":\"#FECB52\",\"pattern\":{\"shape\":\"\"}},\"name\":\"ERLI ROQUE DE GODOY\",\"offsetgroup\":\"ERLI ROQUE DE GODOY\",\"orientation\":\"v\",\"showlegend\":true,\"textposition\":\"auto\",\"x\":[0],\"xaxis\":\"x\",\"y\":[0.0],\"yaxis\":\"y\",\"type\":\"bar\"},{\"alignmentgroup\":\"True\",\"hovertemplate\":\"Nome Cliente=EUROCAR PECAS E SERVICOS EIRELI<br>Qtd. Vencido em at\\u00e9 30 Dias=%{x}<br>Valor Vencido at\\u00e9 30 Dias=%{y}<extra></extra>\",\"legendgroup\":\"EUROCAR PECAS E SERVICOS EIRELI\",\"marker\":{\"color\":\"#636efa\",\"pattern\":{\"shape\":\"\"}},\"name\":\"EUROCAR PECAS E SERVICOS EIRELI\",\"offsetgroup\":\"EUROCAR PECAS E SERVICOS EIRELI\",\"orientation\":\"v\",\"showlegend\":true,\"textposition\":\"auto\",\"x\":[0],\"xaxis\":\"x\",\"y\":[0.0],\"yaxis\":\"y\",\"type\":\"bar\"},{\"alignmentgroup\":\"True\",\"hovertemplate\":\"Nome Cliente=EVA RODRIGUES PIMENTEL DE ARAUJO<br>Qtd. Vencido em at\\u00e9 30 Dias=%{x}<br>Valor Vencido at\\u00e9 30 Dias=%{y}<extra></extra>\",\"legendgroup\":\"EVA RODRIGUES PIMENTEL DE ARAUJO\",\"marker\":{\"color\":\"#EF553B\",\"pattern\":{\"shape\":\"\"}},\"name\":\"EVA RODRIGUES PIMENTEL DE ARAUJO\",\"offsetgroup\":\"EVA RODRIGUES PIMENTEL DE ARAUJO\",\"orientation\":\"v\",\"showlegend\":true,\"textposition\":\"auto\",\"x\":[0],\"xaxis\":\"x\",\"y\":[0.0],\"yaxis\":\"y\",\"type\":\"bar\"},{\"alignmentgroup\":\"True\",\"hovertemplate\":\"Nome Cliente=EVANDRO CARLOS GASPARETTO DA SILVA<br>Qtd. Vencido em at\\u00e9 30 Dias=%{x}<br>Valor Vencido at\\u00e9 30 Dias=%{y}<extra></extra>\",\"legendgroup\":\"EVANDRO CARLOS GASPARETTO DA SILVA\",\"marker\":{\"color\":\"#00cc96\",\"pattern\":{\"shape\":\"\"}},\"name\":\"EVANDRO CARLOS GASPARETTO DA SILVA\",\"offsetgroup\":\"EVANDRO CARLOS GASPARETTO DA SILVA\",\"orientation\":\"v\",\"showlegend\":true,\"textposition\":\"auto\",\"x\":[0],\"xaxis\":\"x\",\"y\":[0.0],\"yaxis\":\"y\",\"type\":\"bar\"},{\"alignmentgroup\":\"True\",\"hovertemplate\":\"Nome Cliente=FABRICIO POLO ANCIUTTI<br>Qtd. Vencido em at\\u00e9 30 Dias=%{x}<br>Valor Vencido at\\u00e9 30 Dias=%{y}<extra></extra>\",\"legendgroup\":\"FABRICIO POLO ANCIUTTI\",\"marker\":{\"color\":\"#ab63fa\",\"pattern\":{\"shape\":\"\"}},\"name\":\"FABRICIO POLO ANCIUTTI\",\"offsetgroup\":\"FABRICIO POLO ANCIUTTI\",\"orientation\":\"v\",\"showlegend\":true,\"textposition\":\"auto\",\"x\":[0],\"xaxis\":\"x\",\"y\":[0.0],\"yaxis\":\"y\",\"type\":\"bar\"},{\"alignmentgroup\":\"True\",\"hovertemplate\":\"Nome Cliente=FERMAQ FERRAMENTAS E MAQUINAS LTDA<br>Qtd. Vencido em at\\u00e9 30 Dias=%{x}<br>Valor Vencido at\\u00e9 30 Dias=%{y}<extra></extra>\",\"legendgroup\":\"FERMAQ FERRAMENTAS E MAQUINAS LTDA\",\"marker\":{\"color\":\"#FFA15A\",\"pattern\":{\"shape\":\"\"}},\"name\":\"FERMAQ FERRAMENTAS E MAQUINAS LTDA\",\"offsetgroup\":\"FERMAQ FERRAMENTAS E MAQUINAS LTDA\",\"orientation\":\"v\",\"showlegend\":true,\"textposition\":\"auto\",\"x\":[0],\"xaxis\":\"x\",\"y\":[0.0],\"yaxis\":\"y\",\"type\":\"bar\"},{\"alignmentgroup\":\"True\",\"hovertemplate\":\"Nome Cliente=FRANCISCO PEREIRA DA SILVA<br>Qtd. Vencido em at\\u00e9 30 Dias=%{x}<br>Valor Vencido at\\u00e9 30 Dias=%{y}<extra></extra>\",\"legendgroup\":\"FRANCISCO PEREIRA DA SILVA\",\"marker\":{\"color\":\"#19d3f3\",\"pattern\":{\"shape\":\"\"}},\"name\":\"FRANCISCO PEREIRA DA SILVA\",\"offsetgroup\":\"FRANCISCO PEREIRA DA SILVA\",\"orientation\":\"v\",\"showlegend\":true,\"textposition\":\"auto\",\"x\":[0],\"xaxis\":\"x\",\"y\":[0.0],\"yaxis\":\"y\",\"type\":\"bar\"},{\"alignmentgroup\":\"True\",\"hovertemplate\":\"Nome Cliente=GABRIELA GONCALVES PIMENTEL<br>Qtd. Vencido em at\\u00e9 30 Dias=%{x}<br>Valor Vencido at\\u00e9 30 Dias=%{y}<extra></extra>\",\"legendgroup\":\"GABRIELA GONCALVES PIMENTEL\",\"marker\":{\"color\":\"#FF6692\",\"pattern\":{\"shape\":\"\"}},\"name\":\"GABRIELA GONCALVES PIMENTEL\",\"offsetgroup\":\"GABRIELA GONCALVES PIMENTEL\",\"orientation\":\"v\",\"showlegend\":true,\"textposition\":\"auto\",\"x\":[0],\"xaxis\":\"x\",\"y\":[0.0],\"yaxis\":\"y\",\"type\":\"bar\"},{\"alignmentgroup\":\"True\",\"hovertemplate\":\"Nome Cliente=HENRIQUE RODRIGUES PEREIRA<br>Qtd. Vencido em at\\u00e9 30 Dias=%{x}<br>Valor Vencido at\\u00e9 30 Dias=%{y}<extra></extra>\",\"legendgroup\":\"HENRIQUE RODRIGUES PEREIRA\",\"marker\":{\"color\":\"#B6E880\",\"pattern\":{\"shape\":\"\"}},\"name\":\"HENRIQUE RODRIGUES PEREIRA\",\"offsetgroup\":\"HENRIQUE RODRIGUES PEREIRA\",\"orientation\":\"v\",\"showlegend\":true,\"textposition\":\"auto\",\"x\":[0],\"xaxis\":\"x\",\"y\":[0.0],\"yaxis\":\"y\",\"type\":\"bar\"},{\"alignmentgroup\":\"True\",\"hovertemplate\":\"Nome Cliente=ISRAEL JESUS DOS SANTOS<br>Qtd. Vencido em at\\u00e9 30 Dias=%{x}<br>Valor Vencido at\\u00e9 30 Dias=%{y}<extra></extra>\",\"legendgroup\":\"ISRAEL JESUS DOS SANTOS\",\"marker\":{\"color\":\"#FF97FF\",\"pattern\":{\"shape\":\"\"}},\"name\":\"ISRAEL JESUS DOS SANTOS\",\"offsetgroup\":\"ISRAEL JESUS DOS SANTOS\",\"orientation\":\"v\",\"showlegend\":true,\"textposition\":\"auto\",\"x\":[0],\"xaxis\":\"x\",\"y\":[0.0],\"yaxis\":\"y\",\"type\":\"bar\"},{\"alignmentgroup\":\"True\",\"hovertemplate\":\"Nome Cliente=IVONE M\\u00c1RCIA DA SILVA<br>Qtd. Vencido em at\\u00e9 30 Dias=%{x}<br>Valor Vencido at\\u00e9 30 Dias=%{y}<extra></extra>\",\"legendgroup\":\"IVONE M\\u00c1RCIA DA SILVA\",\"marker\":{\"color\":\"#FECB52\",\"pattern\":{\"shape\":\"\"}},\"name\":\"IVONE M\\u00c1RCIA DA SILVA\",\"offsetgroup\":\"IVONE M\\u00c1RCIA DA SILVA\",\"orientation\":\"v\",\"showlegend\":true,\"textposition\":\"auto\",\"x\":[0],\"xaxis\":\"x\",\"y\":[0.0],\"yaxis\":\"y\",\"type\":\"bar\"},{\"alignmentgroup\":\"True\",\"hovertemplate\":\"Nome Cliente=J J W CONSTRUTORA E EMPREENDIMENTOS - EIRELI<br>Qtd. Vencido em at\\u00e9 30 Dias=%{x}<br>Valor Vencido at\\u00e9 30 Dias=%{y}<extra></extra>\",\"legendgroup\":\"J J W CONSTRUTORA E EMPREENDIMENTOS - EIRELI\",\"marker\":{\"color\":\"#636efa\",\"pattern\":{\"shape\":\"\"}},\"name\":\"J J W CONSTRUTORA E EMPREENDIMENTOS - EIRELI\",\"offsetgroup\":\"J J W CONSTRUTORA E EMPREENDIMENTOS - EIRELI\",\"orientation\":\"v\",\"showlegend\":true,\"textposition\":\"auto\",\"x\":[0],\"xaxis\":\"x\",\"y\":[0.0],\"yaxis\":\"y\",\"type\":\"bar\"},{\"alignmentgroup\":\"True\",\"hovertemplate\":\"Nome Cliente=JAILSON FERREIRA DE OLIVEIRA 01686507119<br>Qtd. Vencido em at\\u00e9 30 Dias=%{x}<br>Valor Vencido at\\u00e9 30 Dias=%{y}<extra></extra>\",\"legendgroup\":\"JAILSON FERREIRA DE OLIVEIRA 01686507119\",\"marker\":{\"color\":\"#EF553B\",\"pattern\":{\"shape\":\"\"}},\"name\":\"JAILSON FERREIRA DE OLIVEIRA 01686507119\",\"offsetgroup\":\"JAILSON FERREIRA DE OLIVEIRA 01686507119\",\"orientation\":\"v\",\"showlegend\":true,\"textposition\":\"auto\",\"x\":[0],\"xaxis\":\"x\",\"y\":[0.0],\"yaxis\":\"y\",\"type\":\"bar\"},{\"alignmentgroup\":\"True\",\"hovertemplate\":\"Nome Cliente=JAQUELINE DE SOUSA SILVA<br>Qtd. Vencido em at\\u00e9 30 Dias=%{x}<br>Valor Vencido at\\u00e9 30 Dias=%{y}<extra></extra>\",\"legendgroup\":\"JAQUELINE DE SOUSA SILVA\",\"marker\":{\"color\":\"#00cc96\",\"pattern\":{\"shape\":\"\"}},\"name\":\"JAQUELINE DE SOUSA SILVA\",\"offsetgroup\":\"JAQUELINE DE SOUSA SILVA\",\"orientation\":\"v\",\"showlegend\":true,\"textposition\":\"auto\",\"x\":[0],\"xaxis\":\"x\",\"y\":[0.0],\"yaxis\":\"y\",\"type\":\"bar\"},{\"alignmentgroup\":\"True\",\"hovertemplate\":\"Nome Cliente=JESSICA CAVALCANTE MALTA<br>Qtd. Vencido em at\\u00e9 30 Dias=%{x}<br>Valor Vencido at\\u00e9 30 Dias=%{y}<extra></extra>\",\"legendgroup\":\"JESSICA CAVALCANTE MALTA\",\"marker\":{\"color\":\"#ab63fa\",\"pattern\":{\"shape\":\"\"}},\"name\":\"JESSICA CAVALCANTE MALTA\",\"offsetgroup\":\"JESSICA CAVALCANTE MALTA\",\"orientation\":\"v\",\"showlegend\":true,\"textposition\":\"auto\",\"x\":[0],\"xaxis\":\"x\",\"y\":[0.0],\"yaxis\":\"y\",\"type\":\"bar\"},{\"alignmentgroup\":\"True\",\"hovertemplate\":\"Nome Cliente=JOSE ROBERTO SIQUEIRA JUNIOR<br>Qtd. Vencido em at\\u00e9 30 Dias=%{x}<br>Valor Vencido at\\u00e9 30 Dias=%{y}<extra></extra>\",\"legendgroup\":\"JOSE ROBERTO SIQUEIRA JUNIOR\",\"marker\":{\"color\":\"#FFA15A\",\"pattern\":{\"shape\":\"\"}},\"name\":\"JOSE ROBERTO SIQUEIRA JUNIOR\",\"offsetgroup\":\"JOSE ROBERTO SIQUEIRA JUNIOR\",\"orientation\":\"v\",\"showlegend\":true,\"textposition\":\"auto\",\"x\":[0],\"xaxis\":\"x\",\"y\":[0.0],\"yaxis\":\"y\",\"type\":\"bar\"},{\"alignmentgroup\":\"True\",\"hovertemplate\":\"Nome Cliente=KAREN NATHALIA ALVES DIAS 05206223166<br>Qtd. Vencido em at\\u00e9 30 Dias=%{x}<br>Valor Vencido at\\u00e9 30 Dias=%{y}<extra></extra>\",\"legendgroup\":\"KAREN NATHALIA ALVES DIAS 05206223166\",\"marker\":{\"color\":\"#19d3f3\",\"pattern\":{\"shape\":\"\"}},\"name\":\"KAREN NATHALIA ALVES DIAS 05206223166\",\"offsetgroup\":\"KAREN NATHALIA ALVES DIAS 05206223166\",\"orientation\":\"v\",\"showlegend\":true,\"textposition\":\"auto\",\"x\":[0],\"xaxis\":\"x\",\"y\":[0.0],\"yaxis\":\"y\",\"type\":\"bar\"},{\"alignmentgroup\":\"True\",\"hovertemplate\":\"Nome Cliente=KOCH & STORTI LTDA<br>Qtd. Vencido em at\\u00e9 30 Dias=%{x}<br>Valor Vencido at\\u00e9 30 Dias=%{y}<extra></extra>\",\"legendgroup\":\"KOCH & STORTI LTDA\",\"marker\":{\"color\":\"#FF6692\",\"pattern\":{\"shape\":\"\"}},\"name\":\"KOCH & STORTI LTDA\",\"offsetgroup\":\"KOCH & STORTI LTDA\",\"orientation\":\"v\",\"showlegend\":true,\"textposition\":\"auto\",\"x\":[0],\"xaxis\":\"x\",\"y\":[0.0],\"yaxis\":\"y\",\"type\":\"bar\"},{\"alignmentgroup\":\"True\",\"hovertemplate\":\"Nome Cliente=LAIANE RODRIGUES DA COSTA<br>Qtd. Vencido em at\\u00e9 30 Dias=%{x}<br>Valor Vencido at\\u00e9 30 Dias=%{y}<extra></extra>\",\"legendgroup\":\"LAIANE RODRIGUES DA COSTA\",\"marker\":{\"color\":\"#B6E880\",\"pattern\":{\"shape\":\"\"}},\"name\":\"LAIANE RODRIGUES DA COSTA\",\"offsetgroup\":\"LAIANE RODRIGUES DA COSTA\",\"orientation\":\"v\",\"showlegend\":true,\"textposition\":\"auto\",\"x\":[0],\"xaxis\":\"x\",\"y\":[0.0],\"yaxis\":\"y\",\"type\":\"bar\"},{\"alignmentgroup\":\"True\",\"hovertemplate\":\"Nome Cliente=LILIAN APARECIDA PEREIRA DAS CHAGAS 51237814120<br>Qtd. Vencido em at\\u00e9 30 Dias=%{x}<br>Valor Vencido at\\u00e9 30 Dias=%{y}<extra></extra>\",\"legendgroup\":\"LILIAN APARECIDA PEREIRA DAS CHAGAS 51237814120\",\"marker\":{\"color\":\"#FF97FF\",\"pattern\":{\"shape\":\"\"}},\"name\":\"LILIAN APARECIDA PEREIRA DAS CHAGAS 51237814120\",\"offsetgroup\":\"LILIAN APARECIDA PEREIRA DAS CHAGAS 51237814120\",\"orientation\":\"v\",\"showlegend\":true,\"textposition\":\"auto\",\"x\":[0],\"xaxis\":\"x\",\"y\":[0.0],\"yaxis\":\"y\",\"type\":\"bar\"},{\"alignmentgroup\":\"True\",\"hovertemplate\":\"Nome Cliente=LIVIA LISBOA NASCIMENTO<br>Qtd. Vencido em at\\u00e9 30 Dias=%{x}<br>Valor Vencido at\\u00e9 30 Dias=%{y}<extra></extra>\",\"legendgroup\":\"LIVIA LISBOA NASCIMENTO\",\"marker\":{\"color\":\"#FECB52\",\"pattern\":{\"shape\":\"\"}},\"name\":\"LIVIA LISBOA NASCIMENTO\",\"offsetgroup\":\"LIVIA LISBOA NASCIMENTO\",\"orientation\":\"v\",\"showlegend\":true,\"textposition\":\"auto\",\"x\":[0],\"xaxis\":\"x\",\"y\":[0.0],\"yaxis\":\"y\",\"type\":\"bar\"},{\"alignmentgroup\":\"True\",\"hovertemplate\":\"Nome Cliente=LUCAS RIBEIRO MARTINS<br>Qtd. Vencido em at\\u00e9 30 Dias=%{x}<br>Valor Vencido at\\u00e9 30 Dias=%{y}<extra></extra>\",\"legendgroup\":\"LUCAS RIBEIRO MARTINS\",\"marker\":{\"color\":\"#636efa\",\"pattern\":{\"shape\":\"\"}},\"name\":\"LUCAS RIBEIRO MARTINS\",\"offsetgroup\":\"LUCAS RIBEIRO MARTINS\",\"orientation\":\"v\",\"showlegend\":true,\"textposition\":\"auto\",\"x\":[0],\"xaxis\":\"x\",\"y\":[0.0],\"yaxis\":\"y\",\"type\":\"bar\"},{\"alignmentgroup\":\"True\",\"hovertemplate\":\"Nome Cliente=LUCIA RIOS RIBEIRO<br>Qtd. Vencido em at\\u00e9 30 Dias=%{x}<br>Valor Vencido at\\u00e9 30 Dias=%{y}<extra></extra>\",\"legendgroup\":\"LUCIA RIOS RIBEIRO\",\"marker\":{\"color\":\"#EF553B\",\"pattern\":{\"shape\":\"\"}},\"name\":\"LUCIA RIOS RIBEIRO\",\"offsetgroup\":\"LUCIA RIOS RIBEIRO\",\"orientation\":\"v\",\"showlegend\":true,\"textposition\":\"auto\",\"x\":[0],\"xaxis\":\"x\",\"y\":[0.0],\"yaxis\":\"y\",\"type\":\"bar\"},{\"alignmentgroup\":\"True\",\"hovertemplate\":\"Nome Cliente=LUCIENE MODESTO DE OLIVEIRA<br>Qtd. Vencido em at\\u00e9 30 Dias=%{x}<br>Valor Vencido at\\u00e9 30 Dias=%{y}<extra></extra>\",\"legendgroup\":\"LUCIENE MODESTO DE OLIVEIRA\",\"marker\":{\"color\":\"#00cc96\",\"pattern\":{\"shape\":\"\"}},\"name\":\"LUCIENE MODESTO DE OLIVEIRA\",\"offsetgroup\":\"LUCIENE MODESTO DE OLIVEIRA\",\"orientation\":\"v\",\"showlegend\":true,\"textposition\":\"auto\",\"x\":[0],\"xaxis\":\"x\",\"y\":[0.0],\"yaxis\":\"y\",\"type\":\"bar\"},{\"alignmentgroup\":\"True\",\"hovertemplate\":\"Nome Cliente=MARCEL MELO RINCO<br>Qtd. Vencido em at\\u00e9 30 Dias=%{x}<br>Valor Vencido at\\u00e9 30 Dias=%{y}<extra></extra>\",\"legendgroup\":\"MARCEL MELO RINCO\",\"marker\":{\"color\":\"#ab63fa\",\"pattern\":{\"shape\":\"\"}},\"name\":\"MARCEL MELO RINCO\",\"offsetgroup\":\"MARCEL MELO RINCO\",\"orientation\":\"v\",\"showlegend\":true,\"textposition\":\"auto\",\"x\":[0],\"xaxis\":\"x\",\"y\":[0.0],\"yaxis\":\"y\",\"type\":\"bar\"},{\"alignmentgroup\":\"True\",\"hovertemplate\":\"Nome Cliente=MARCOS ANDRE DOS SANTOS<br>Qtd. Vencido em at\\u00e9 30 Dias=%{x}<br>Valor Vencido at\\u00e9 30 Dias=%{y}<extra></extra>\",\"legendgroup\":\"MARCOS ANDRE DOS SANTOS\",\"marker\":{\"color\":\"#FFA15A\",\"pattern\":{\"shape\":\"\"}},\"name\":\"MARCOS ANDRE DOS SANTOS\",\"offsetgroup\":\"MARCOS ANDRE DOS SANTOS\",\"orientation\":\"v\",\"showlegend\":true,\"textposition\":\"auto\",\"x\":[0],\"xaxis\":\"x\",\"y\":[0.0],\"yaxis\":\"y\",\"type\":\"bar\"},{\"alignmentgroup\":\"True\",\"hovertemplate\":\"Nome Cliente=MARIA LUCIA FERREIRA<br>Qtd. Vencido em at\\u00e9 30 Dias=%{x}<br>Valor Vencido at\\u00e9 30 Dias=%{y}<extra></extra>\",\"legendgroup\":\"MARIA LUCIA FERREIRA\",\"marker\":{\"color\":\"#19d3f3\",\"pattern\":{\"shape\":\"\"}},\"name\":\"MARIA LUCIA FERREIRA\",\"offsetgroup\":\"MARIA LUCIA FERREIRA\",\"orientation\":\"v\",\"showlegend\":true,\"textposition\":\"auto\",\"x\":[0],\"xaxis\":\"x\",\"y\":[0.0],\"yaxis\":\"y\",\"type\":\"bar\"},{\"alignmentgroup\":\"True\",\"hovertemplate\":\"Nome Cliente=MATHEUS BARBOSA DA FONSECA<br>Qtd. Vencido em at\\u00e9 30 Dias=%{x}<br>Valor Vencido at\\u00e9 30 Dias=%{y}<extra></extra>\",\"legendgroup\":\"MATHEUS BARBOSA DA FONSECA\",\"marker\":{\"color\":\"#FF6692\",\"pattern\":{\"shape\":\"\"}},\"name\":\"MATHEUS BARBOSA DA FONSECA\",\"offsetgroup\":\"MATHEUS BARBOSA DA FONSECA\",\"orientation\":\"v\",\"showlegend\":true,\"textposition\":\"auto\",\"x\":[0],\"xaxis\":\"x\",\"y\":[0.0],\"yaxis\":\"y\",\"type\":\"bar\"},{\"alignmentgroup\":\"True\",\"hovertemplate\":\"Nome Cliente=MONJOLO - BAR E RESTAURANTE LTDA<br>Qtd. Vencido em at\\u00e9 30 Dias=%{x}<br>Valor Vencido at\\u00e9 30 Dias=%{y}<extra></extra>\",\"legendgroup\":\"MONJOLO - BAR E RESTAURANTE LTDA\",\"marker\":{\"color\":\"#B6E880\",\"pattern\":{\"shape\":\"\"}},\"name\":\"MONJOLO - BAR E RESTAURANTE LTDA\",\"offsetgroup\":\"MONJOLO - BAR E RESTAURANTE LTDA\",\"orientation\":\"v\",\"showlegend\":true,\"textposition\":\"auto\",\"x\":[0],\"xaxis\":\"x\",\"y\":[0.0],\"yaxis\":\"y\",\"type\":\"bar\"},{\"alignmentgroup\":\"True\",\"hovertemplate\":\"Nome Cliente=NATANAEL PEREIRA DA SILVA<br>Qtd. Vencido em at\\u00e9 30 Dias=%{x}<br>Valor Vencido at\\u00e9 30 Dias=%{y}<extra></extra>\",\"legendgroup\":\"NATANAEL PEREIRA DA SILVA\",\"marker\":{\"color\":\"#FF97FF\",\"pattern\":{\"shape\":\"\"}},\"name\":\"NATANAEL PEREIRA DA SILVA\",\"offsetgroup\":\"NATANAEL PEREIRA DA SILVA\",\"orientation\":\"v\",\"showlegend\":true,\"textposition\":\"auto\",\"x\":[0],\"xaxis\":\"x\",\"y\":[0.0],\"yaxis\":\"y\",\"type\":\"bar\"}],                        {\"template\":{\"data\":{\"bar\":[{\"error_x\":{\"color\":\"#2a3f5f\"},\"error_y\":{\"color\":\"#2a3f5f\"},\"marker\":{\"line\":{\"color\":\"#E5ECF6\",\"width\":0.5},\"pattern\":{\"fillmode\":\"overlay\",\"size\":10,\"solidity\":0.2}},\"type\":\"bar\"}],\"barpolar\":[{\"marker\":{\"line\":{\"color\":\"#E5ECF6\",\"width\":0.5},\"pattern\":{\"fillmode\":\"overlay\",\"size\":10,\"solidity\":0.2}},\"type\":\"barpolar\"}],\"carpet\":[{\"aaxis\":{\"endlinecolor\":\"#2a3f5f\",\"gridcolor\":\"white\",\"linecolor\":\"white\",\"minorgridcolor\":\"white\",\"startlinecolor\":\"#2a3f5f\"},\"baxis\":{\"endlinecolor\":\"#2a3f5f\",\"gridcolor\":\"white\",\"linecolor\":\"white\",\"minorgridcolor\":\"white\",\"startlinecolor\":\"#2a3f5f\"},\"type\":\"carpet\"}],\"choropleth\":[{\"colorbar\":{\"outlinewidth\":0,\"ticks\":\"\"},\"type\":\"choropleth\"}],\"contour\":[{\"colorbar\":{\"outlinewidth\":0,\"ticks\":\"\"},\"colorscale\":[[0.0,\"#0d0887\"],[0.1111111111111111,\"#46039f\"],[0.2222222222222222,\"#7201a8\"],[0.3333333333333333,\"#9c179e\"],[0.4444444444444444,\"#bd3786\"],[0.5555555555555556,\"#d8576b\"],[0.6666666666666666,\"#ed7953\"],[0.7777777777777778,\"#fb9f3a\"],[0.8888888888888888,\"#fdca26\"],[1.0,\"#f0f921\"]],\"type\":\"contour\"}],\"contourcarpet\":[{\"colorbar\":{\"outlinewidth\":0,\"ticks\":\"\"},\"type\":\"contourcarpet\"}],\"heatmap\":[{\"colorbar\":{\"outlinewidth\":0,\"ticks\":\"\"},\"colorscale\":[[0.0,\"#0d0887\"],[0.1111111111111111,\"#46039f\"],[0.2222222222222222,\"#7201a8\"],[0.3333333333333333,\"#9c179e\"],[0.4444444444444444,\"#bd3786\"],[0.5555555555555556,\"#d8576b\"],[0.6666666666666666,\"#ed7953\"],[0.7777777777777778,\"#fb9f3a\"],[0.8888888888888888,\"#fdca26\"],[1.0,\"#f0f921\"]],\"type\":\"heatmap\"}],\"heatmapgl\":[{\"colorbar\":{\"outlinewidth\":0,\"ticks\":\"\"},\"colorscale\":[[0.0,\"#0d0887\"],[0.1111111111111111,\"#46039f\"],[0.2222222222222222,\"#7201a8\"],[0.3333333333333333,\"#9c179e\"],[0.4444444444444444,\"#bd3786\"],[0.5555555555555556,\"#d8576b\"],[0.6666666666666666,\"#ed7953\"],[0.7777777777777778,\"#fb9f3a\"],[0.8888888888888888,\"#fdca26\"],[1.0,\"#f0f921\"]],\"type\":\"heatmapgl\"}],\"histogram\":[{\"marker\":{\"pattern\":{\"fillmode\":\"overlay\",\"size\":10,\"solidity\":0.2}},\"type\":\"histogram\"}],\"histogram2d\":[{\"colorbar\":{\"outlinewidth\":0,\"ticks\":\"\"},\"colorscale\":[[0.0,\"#0d0887\"],[0.1111111111111111,\"#46039f\"],[0.2222222222222222,\"#7201a8\"],[0.3333333333333333,\"#9c179e\"],[0.4444444444444444,\"#bd3786\"],[0.5555555555555556,\"#d8576b\"],[0.6666666666666666,\"#ed7953\"],[0.7777777777777778,\"#fb9f3a\"],[0.8888888888888888,\"#fdca26\"],[1.0,\"#f0f921\"]],\"type\":\"histogram2d\"}],\"histogram2dcontour\":[{\"colorbar\":{\"outlinewidth\":0,\"ticks\":\"\"},\"colorscale\":[[0.0,\"#0d0887\"],[0.1111111111111111,\"#46039f\"],[0.2222222222222222,\"#7201a8\"],[0.3333333333333333,\"#9c179e\"],[0.4444444444444444,\"#bd3786\"],[0.5555555555555556,\"#d8576b\"],[0.6666666666666666,\"#ed7953\"],[0.7777777777777778,\"#fb9f3a\"],[0.8888888888888888,\"#fdca26\"],[1.0,\"#f0f921\"]],\"type\":\"histogram2dcontour\"}],\"mesh3d\":[{\"colorbar\":{\"outlinewidth\":0,\"ticks\":\"\"},\"type\":\"mesh3d\"}],\"parcoords\":[{\"line\":{\"colorbar\":{\"outlinewidth\":0,\"ticks\":\"\"}},\"type\":\"parcoords\"}],\"pie\":[{\"automargin\":true,\"type\":\"pie\"}],\"scatter\":[{\"marker\":{\"colorbar\":{\"outlinewidth\":0,\"ticks\":\"\"}},\"type\":\"scatter\"}],\"scatter3d\":[{\"line\":{\"colorbar\":{\"outlinewidth\":0,\"ticks\":\"\"}},\"marker\":{\"colorbar\":{\"outlinewidth\":0,\"ticks\":\"\"}},\"type\":\"scatter3d\"}],\"scattercarpet\":[{\"marker\":{\"colorbar\":{\"outlinewidth\":0,\"ticks\":\"\"}},\"type\":\"scattercarpet\"}],\"scattergeo\":[{\"marker\":{\"colorbar\":{\"outlinewidth\":0,\"ticks\":\"\"}},\"type\":\"scattergeo\"}],\"scattergl\":[{\"marker\":{\"colorbar\":{\"outlinewidth\":0,\"ticks\":\"\"}},\"type\":\"scattergl\"}],\"scattermapbox\":[{\"marker\":{\"colorbar\":{\"outlinewidth\":0,\"ticks\":\"\"}},\"type\":\"scattermapbox\"}],\"scatterpolar\":[{\"marker\":{\"colorbar\":{\"outlinewidth\":0,\"ticks\":\"\"}},\"type\":\"scatterpolar\"}],\"scatterpolargl\":[{\"marker\":{\"colorbar\":{\"outlinewidth\":0,\"ticks\":\"\"}},\"type\":\"scatterpolargl\"}],\"scatterternary\":[{\"marker\":{\"colorbar\":{\"outlinewidth\":0,\"ticks\":\"\"}},\"type\":\"scatterternary\"}],\"surface\":[{\"colorbar\":{\"outlinewidth\":0,\"ticks\":\"\"},\"colorscale\":[[0.0,\"#0d0887\"],[0.1111111111111111,\"#46039f\"],[0.2222222222222222,\"#7201a8\"],[0.3333333333333333,\"#9c179e\"],[0.4444444444444444,\"#bd3786\"],[0.5555555555555556,\"#d8576b\"],[0.6666666666666666,\"#ed7953\"],[0.7777777777777778,\"#fb9f3a\"],[0.8888888888888888,\"#fdca26\"],[1.0,\"#f0f921\"]],\"type\":\"surface\"}],\"table\":[{\"cells\":{\"fill\":{\"color\":\"#EBF0F8\"},\"line\":{\"color\":\"white\"}},\"header\":{\"fill\":{\"color\":\"#C8D4E3\"},\"line\":{\"color\":\"white\"}},\"type\":\"table\"}]},\"layout\":{\"annotationdefaults\":{\"arrowcolor\":\"#2a3f5f\",\"arrowhead\":0,\"arrowwidth\":1},\"autotypenumbers\":\"strict\",\"coloraxis\":{\"colorbar\":{\"outlinewidth\":0,\"ticks\":\"\"}},\"colorscale\":{\"diverging\":[[0,\"#8e0152\"],[0.1,\"#c51b7d\"],[0.2,\"#de77ae\"],[0.3,\"#f1b6da\"],[0.4,\"#fde0ef\"],[0.5,\"#f7f7f7\"],[0.6,\"#e6f5d0\"],[0.7,\"#b8e186\"],[0.8,\"#7fbc41\"],[0.9,\"#4d9221\"],[1,\"#276419\"]],\"sequential\":[[0.0,\"#0d0887\"],[0.1111111111111111,\"#46039f\"],[0.2222222222222222,\"#7201a8\"],[0.3333333333333333,\"#9c179e\"],[0.4444444444444444,\"#bd3786\"],[0.5555555555555556,\"#d8576b\"],[0.6666666666666666,\"#ed7953\"],[0.7777777777777778,\"#fb9f3a\"],[0.8888888888888888,\"#fdca26\"],[1.0,\"#f0f921\"]],\"sequentialminus\":[[0.0,\"#0d0887\"],[0.1111111111111111,\"#46039f\"],[0.2222222222222222,\"#7201a8\"],[0.3333333333333333,\"#9c179e\"],[0.4444444444444444,\"#bd3786\"],[0.5555555555555556,\"#d8576b\"],[0.6666666666666666,\"#ed7953\"],[0.7777777777777778,\"#fb9f3a\"],[0.8888888888888888,\"#fdca26\"],[1.0,\"#f0f921\"]]},\"colorway\":[\"#636efa\",\"#EF553B\",\"#00cc96\",\"#ab63fa\",\"#FFA15A\",\"#19d3f3\",\"#FF6692\",\"#B6E880\",\"#FF97FF\",\"#FECB52\"],\"font\":{\"color\":\"#2a3f5f\"},\"geo\":{\"bgcolor\":\"white\",\"lakecolor\":\"white\",\"landcolor\":\"#E5ECF6\",\"showlakes\":true,\"showland\":true,\"subunitcolor\":\"white\"},\"hoverlabel\":{\"align\":\"left\"},\"hovermode\":\"closest\",\"mapbox\":{\"style\":\"light\"},\"paper_bgcolor\":\"white\",\"plot_bgcolor\":\"#E5ECF6\",\"polar\":{\"angularaxis\":{\"gridcolor\":\"white\",\"linecolor\":\"white\",\"ticks\":\"\"},\"bgcolor\":\"#E5ECF6\",\"radialaxis\":{\"gridcolor\":\"white\",\"linecolor\":\"white\",\"ticks\":\"\"}},\"scene\":{\"xaxis\":{\"backgroundcolor\":\"#E5ECF6\",\"gridcolor\":\"white\",\"gridwidth\":2,\"linecolor\":\"white\",\"showbackground\":true,\"ticks\":\"\",\"zerolinecolor\":\"white\"},\"yaxis\":{\"backgroundcolor\":\"#E5ECF6\",\"gridcolor\":\"white\",\"gridwidth\":2,\"linecolor\":\"white\",\"showbackground\":true,\"ticks\":\"\",\"zerolinecolor\":\"white\"},\"zaxis\":{\"backgroundcolor\":\"#E5ECF6\",\"gridcolor\":\"white\",\"gridwidth\":2,\"linecolor\":\"white\",\"showbackground\":true,\"ticks\":\"\",\"zerolinecolor\":\"white\"}},\"shapedefaults\":{\"line\":{\"color\":\"#2a3f5f\"}},\"ternary\":{\"aaxis\":{\"gridcolor\":\"white\",\"linecolor\":\"white\",\"ticks\":\"\"},\"baxis\":{\"gridcolor\":\"white\",\"linecolor\":\"white\",\"ticks\":\"\"},\"bgcolor\":\"#E5ECF6\",\"caxis\":{\"gridcolor\":\"white\",\"linecolor\":\"white\",\"ticks\":\"\"}},\"title\":{\"x\":0.05},\"xaxis\":{\"automargin\":true,\"gridcolor\":\"white\",\"linecolor\":\"white\",\"ticks\":\"\",\"title\":{\"standoff\":15},\"zerolinecolor\":\"white\",\"zerolinewidth\":2},\"yaxis\":{\"automargin\":true,\"gridcolor\":\"white\",\"linecolor\":\"white\",\"ticks\":\"\",\"title\":{\"standoff\":15},\"zerolinecolor\":\"white\",\"zerolinewidth\":2}}},\"xaxis\":{\"anchor\":\"y\",\"domain\":[0.0,1.0],\"title\":{\"text\":\"Qtd. Vencido em at\\u00e9 30 Dias\"}},\"yaxis\":{\"anchor\":\"x\",\"domain\":[0.0,1.0],\"title\":{\"text\":\"Valor Vencido at\\u00e9 30 Dias\"}},\"legend\":{\"title\":{\"text\":\"Nome Cliente\"},\"tracegroupgap\":0},\"margin\":{\"t\":60},\"barmode\":\"relative\"},                        {\"responsive\": true}                    ).then(function(){\n",
              "                            \n",
              "var gd = document.getElementById('2b8d23bb-912c-4db7-9969-be763619370c');\n",
              "var x = new MutationObserver(function (mutations, observer) {{\n",
              "        var display = window.getComputedStyle(gd).display;\n",
              "        if (!display || display === 'none') {{\n",
              "            console.log([gd, 'removed!']);\n",
              "            Plotly.purge(gd);\n",
              "            observer.disconnect();\n",
              "        }}\n",
              "}});\n",
              "\n",
              "// Listen for the removal of the full notebook cells\n",
              "var notebookContainer = gd.closest('#notebook-container');\n",
              "if (notebookContainer) {{\n",
              "    x.observe(notebookContainer, {childList: true});\n",
              "}}\n",
              "\n",
              "// Listen for the clearing of the current output cell\n",
              "var outputEl = gd.closest('.output');\n",
              "if (outputEl) {{\n",
              "    x.observe(outputEl, {childList: true});\n",
              "}}\n",
              "\n",
              "                        })                };                            </script>        </div>\n",
              "</body>\n",
              "</html>"
            ]
          },
          "metadata": {}
        }
      ]
    },
    {
      "cell_type": "code",
      "source": [
        "px.line(Dados, x=\"Qtd. Vencido em até 30 Dias\", y=\"Valor Vencido até 30 Dias\")"
      ],
      "metadata": {
        "colab": {
          "base_uri": "https://localhost:8080/",
          "height": 542
        },
        "id": "e8Bs1M1Z-wNs",
        "outputId": "da07693d-3ba7-4271-d3c6-519f0300a9ac"
      },
      "execution_count": 14,
      "outputs": [
        {
          "output_type": "display_data",
          "data": {
            "text/html": [
              "<html>\n",
              "<head><meta charset=\"utf-8\" /></head>\n",
              "<body>\n",
              "    <div>            <script src=\"https://cdnjs.cloudflare.com/ajax/libs/mathjax/2.7.5/MathJax.js?config=TeX-AMS-MML_SVG\"></script><script type=\"text/javascript\">if (window.MathJax) {MathJax.Hub.Config({SVG: {font: \"STIX-Web\"}});}</script>                <script type=\"text/javascript\">window.PlotlyConfig = {MathJaxConfig: 'local'};</script>\n",
              "        <script src=\"https://cdn.plot.ly/plotly-2.8.3.min.js\"></script>                <div id=\"1ae41c7d-3305-40dd-9af2-0e4bfc43954e\" class=\"plotly-graph-div\" style=\"height:525px; width:100%;\"></div>            <script type=\"text/javascript\">                                    window.PLOTLYENV=window.PLOTLYENV || {};                                    if (document.getElementById(\"1ae41c7d-3305-40dd-9af2-0e4bfc43954e\")) {                    Plotly.newPlot(                        \"1ae41c7d-3305-40dd-9af2-0e4bfc43954e\",                        [{\"hovertemplate\":\"Qtd. Vencido em at\\u00e9 30 Dias=%{x}<br>Valor Vencido at\\u00e9 30 Dias=%{y}<extra></extra>\",\"legendgroup\":\"\",\"line\":{\"color\":\"#636efa\",\"dash\":\"solid\"},\"marker\":{\"symbol\":\"circle\"},\"mode\":\"lines\",\"name\":\"\",\"orientation\":\"v\",\"showlegend\":false,\"x\":[29,25,20,18,17,16,15,14,13,8,3,2,1,1,1,1,1,1,1,1,1,1,1,1,1,1,1,1,1,1,1,1,1,1,1,1,1,1,1,1,1,1,1,1,1,1,1,1,1,1,1,0,0,0,0,0,0,0,0,0,0,0,0,0,0,0,0,0,0,0,0,0,0,0,0,0,0,0,0,0,0,0,0,0,0,0,0,0,0,0,0,0,0,0,0,0,0,0,0],\"xaxis\":\"x\",\"y\":[330179.42,109494.0,54212.54,52053.92,49972.53,25331.6,21371.62,20373.28,14649.75,4307.9,2885.2,1728.78,838.91,692.8,637.88,615.03,610.43,515.65,503.68,451.59,440.14,403.23,356.23,254.43,253.29,221.58,220.38,213.79,196.09,192.03,171.92,166.34,141.17,138.1,119.44,112.38,108.81,104.36,72.56,72.02,66.51,56.74,43.93,40.13,20.04,19.1,7.33,5.04,1.26,0.54,0.51,0.0,0.0,0.0,0.0,0.0,0.0,0.0,0.0,0.0,0.0,0.0,0.0,0.0,0.0,0.0,0.0,0.0,0.0,0.0,0.0,0.0,0.0,0.0,0.0,0.0,0.0,0.0,0.0,0.0,0.0,0.0,0.0,0.0,0.0,0.0,0.0,0.0,0.0,0.0,0.0,0.0,0.0,0.0,0.0,0.0,0.0,0.0,0.0],\"yaxis\":\"y\",\"type\":\"scatter\"}],                        {\"template\":{\"data\":{\"bar\":[{\"error_x\":{\"color\":\"#2a3f5f\"},\"error_y\":{\"color\":\"#2a3f5f\"},\"marker\":{\"line\":{\"color\":\"#E5ECF6\",\"width\":0.5},\"pattern\":{\"fillmode\":\"overlay\",\"size\":10,\"solidity\":0.2}},\"type\":\"bar\"}],\"barpolar\":[{\"marker\":{\"line\":{\"color\":\"#E5ECF6\",\"width\":0.5},\"pattern\":{\"fillmode\":\"overlay\",\"size\":10,\"solidity\":0.2}},\"type\":\"barpolar\"}],\"carpet\":[{\"aaxis\":{\"endlinecolor\":\"#2a3f5f\",\"gridcolor\":\"white\",\"linecolor\":\"white\",\"minorgridcolor\":\"white\",\"startlinecolor\":\"#2a3f5f\"},\"baxis\":{\"endlinecolor\":\"#2a3f5f\",\"gridcolor\":\"white\",\"linecolor\":\"white\",\"minorgridcolor\":\"white\",\"startlinecolor\":\"#2a3f5f\"},\"type\":\"carpet\"}],\"choropleth\":[{\"colorbar\":{\"outlinewidth\":0,\"ticks\":\"\"},\"type\":\"choropleth\"}],\"contour\":[{\"colorbar\":{\"outlinewidth\":0,\"ticks\":\"\"},\"colorscale\":[[0.0,\"#0d0887\"],[0.1111111111111111,\"#46039f\"],[0.2222222222222222,\"#7201a8\"],[0.3333333333333333,\"#9c179e\"],[0.4444444444444444,\"#bd3786\"],[0.5555555555555556,\"#d8576b\"],[0.6666666666666666,\"#ed7953\"],[0.7777777777777778,\"#fb9f3a\"],[0.8888888888888888,\"#fdca26\"],[1.0,\"#f0f921\"]],\"type\":\"contour\"}],\"contourcarpet\":[{\"colorbar\":{\"outlinewidth\":0,\"ticks\":\"\"},\"type\":\"contourcarpet\"}],\"heatmap\":[{\"colorbar\":{\"outlinewidth\":0,\"ticks\":\"\"},\"colorscale\":[[0.0,\"#0d0887\"],[0.1111111111111111,\"#46039f\"],[0.2222222222222222,\"#7201a8\"],[0.3333333333333333,\"#9c179e\"],[0.4444444444444444,\"#bd3786\"],[0.5555555555555556,\"#d8576b\"],[0.6666666666666666,\"#ed7953\"],[0.7777777777777778,\"#fb9f3a\"],[0.8888888888888888,\"#fdca26\"],[1.0,\"#f0f921\"]],\"type\":\"heatmap\"}],\"heatmapgl\":[{\"colorbar\":{\"outlinewidth\":0,\"ticks\":\"\"},\"colorscale\":[[0.0,\"#0d0887\"],[0.1111111111111111,\"#46039f\"],[0.2222222222222222,\"#7201a8\"],[0.3333333333333333,\"#9c179e\"],[0.4444444444444444,\"#bd3786\"],[0.5555555555555556,\"#d8576b\"],[0.6666666666666666,\"#ed7953\"],[0.7777777777777778,\"#fb9f3a\"],[0.8888888888888888,\"#fdca26\"],[1.0,\"#f0f921\"]],\"type\":\"heatmapgl\"}],\"histogram\":[{\"marker\":{\"pattern\":{\"fillmode\":\"overlay\",\"size\":10,\"solidity\":0.2}},\"type\":\"histogram\"}],\"histogram2d\":[{\"colorbar\":{\"outlinewidth\":0,\"ticks\":\"\"},\"colorscale\":[[0.0,\"#0d0887\"],[0.1111111111111111,\"#46039f\"],[0.2222222222222222,\"#7201a8\"],[0.3333333333333333,\"#9c179e\"],[0.4444444444444444,\"#bd3786\"],[0.5555555555555556,\"#d8576b\"],[0.6666666666666666,\"#ed7953\"],[0.7777777777777778,\"#fb9f3a\"],[0.8888888888888888,\"#fdca26\"],[1.0,\"#f0f921\"]],\"type\":\"histogram2d\"}],\"histogram2dcontour\":[{\"colorbar\":{\"outlinewidth\":0,\"ticks\":\"\"},\"colorscale\":[[0.0,\"#0d0887\"],[0.1111111111111111,\"#46039f\"],[0.2222222222222222,\"#7201a8\"],[0.3333333333333333,\"#9c179e\"],[0.4444444444444444,\"#bd3786\"],[0.5555555555555556,\"#d8576b\"],[0.6666666666666666,\"#ed7953\"],[0.7777777777777778,\"#fb9f3a\"],[0.8888888888888888,\"#fdca26\"],[1.0,\"#f0f921\"]],\"type\":\"histogram2dcontour\"}],\"mesh3d\":[{\"colorbar\":{\"outlinewidth\":0,\"ticks\":\"\"},\"type\":\"mesh3d\"}],\"parcoords\":[{\"line\":{\"colorbar\":{\"outlinewidth\":0,\"ticks\":\"\"}},\"type\":\"parcoords\"}],\"pie\":[{\"automargin\":true,\"type\":\"pie\"}],\"scatter\":[{\"marker\":{\"colorbar\":{\"outlinewidth\":0,\"ticks\":\"\"}},\"type\":\"scatter\"}],\"scatter3d\":[{\"line\":{\"colorbar\":{\"outlinewidth\":0,\"ticks\":\"\"}},\"marker\":{\"colorbar\":{\"outlinewidth\":0,\"ticks\":\"\"}},\"type\":\"scatter3d\"}],\"scattercarpet\":[{\"marker\":{\"colorbar\":{\"outlinewidth\":0,\"ticks\":\"\"}},\"type\":\"scattercarpet\"}],\"scattergeo\":[{\"marker\":{\"colorbar\":{\"outlinewidth\":0,\"ticks\":\"\"}},\"type\":\"scattergeo\"}],\"scattergl\":[{\"marker\":{\"colorbar\":{\"outlinewidth\":0,\"ticks\":\"\"}},\"type\":\"scattergl\"}],\"scattermapbox\":[{\"marker\":{\"colorbar\":{\"outlinewidth\":0,\"ticks\":\"\"}},\"type\":\"scattermapbox\"}],\"scatterpolar\":[{\"marker\":{\"colorbar\":{\"outlinewidth\":0,\"ticks\":\"\"}},\"type\":\"scatterpolar\"}],\"scatterpolargl\":[{\"marker\":{\"colorbar\":{\"outlinewidth\":0,\"ticks\":\"\"}},\"type\":\"scatterpolargl\"}],\"scatterternary\":[{\"marker\":{\"colorbar\":{\"outlinewidth\":0,\"ticks\":\"\"}},\"type\":\"scatterternary\"}],\"surface\":[{\"colorbar\":{\"outlinewidth\":0,\"ticks\":\"\"},\"colorscale\":[[0.0,\"#0d0887\"],[0.1111111111111111,\"#46039f\"],[0.2222222222222222,\"#7201a8\"],[0.3333333333333333,\"#9c179e\"],[0.4444444444444444,\"#bd3786\"],[0.5555555555555556,\"#d8576b\"],[0.6666666666666666,\"#ed7953\"],[0.7777777777777778,\"#fb9f3a\"],[0.8888888888888888,\"#fdca26\"],[1.0,\"#f0f921\"]],\"type\":\"surface\"}],\"table\":[{\"cells\":{\"fill\":{\"color\":\"#EBF0F8\"},\"line\":{\"color\":\"white\"}},\"header\":{\"fill\":{\"color\":\"#C8D4E3\"},\"line\":{\"color\":\"white\"}},\"type\":\"table\"}]},\"layout\":{\"annotationdefaults\":{\"arrowcolor\":\"#2a3f5f\",\"arrowhead\":0,\"arrowwidth\":1},\"autotypenumbers\":\"strict\",\"coloraxis\":{\"colorbar\":{\"outlinewidth\":0,\"ticks\":\"\"}},\"colorscale\":{\"diverging\":[[0,\"#8e0152\"],[0.1,\"#c51b7d\"],[0.2,\"#de77ae\"],[0.3,\"#f1b6da\"],[0.4,\"#fde0ef\"],[0.5,\"#f7f7f7\"],[0.6,\"#e6f5d0\"],[0.7,\"#b8e186\"],[0.8,\"#7fbc41\"],[0.9,\"#4d9221\"],[1,\"#276419\"]],\"sequential\":[[0.0,\"#0d0887\"],[0.1111111111111111,\"#46039f\"],[0.2222222222222222,\"#7201a8\"],[0.3333333333333333,\"#9c179e\"],[0.4444444444444444,\"#bd3786\"],[0.5555555555555556,\"#d8576b\"],[0.6666666666666666,\"#ed7953\"],[0.7777777777777778,\"#fb9f3a\"],[0.8888888888888888,\"#fdca26\"],[1.0,\"#f0f921\"]],\"sequentialminus\":[[0.0,\"#0d0887\"],[0.1111111111111111,\"#46039f\"],[0.2222222222222222,\"#7201a8\"],[0.3333333333333333,\"#9c179e\"],[0.4444444444444444,\"#bd3786\"],[0.5555555555555556,\"#d8576b\"],[0.6666666666666666,\"#ed7953\"],[0.7777777777777778,\"#fb9f3a\"],[0.8888888888888888,\"#fdca26\"],[1.0,\"#f0f921\"]]},\"colorway\":[\"#636efa\",\"#EF553B\",\"#00cc96\",\"#ab63fa\",\"#FFA15A\",\"#19d3f3\",\"#FF6692\",\"#B6E880\",\"#FF97FF\",\"#FECB52\"],\"font\":{\"color\":\"#2a3f5f\"},\"geo\":{\"bgcolor\":\"white\",\"lakecolor\":\"white\",\"landcolor\":\"#E5ECF6\",\"showlakes\":true,\"showland\":true,\"subunitcolor\":\"white\"},\"hoverlabel\":{\"align\":\"left\"},\"hovermode\":\"closest\",\"mapbox\":{\"style\":\"light\"},\"paper_bgcolor\":\"white\",\"plot_bgcolor\":\"#E5ECF6\",\"polar\":{\"angularaxis\":{\"gridcolor\":\"white\",\"linecolor\":\"white\",\"ticks\":\"\"},\"bgcolor\":\"#E5ECF6\",\"radialaxis\":{\"gridcolor\":\"white\",\"linecolor\":\"white\",\"ticks\":\"\"}},\"scene\":{\"xaxis\":{\"backgroundcolor\":\"#E5ECF6\",\"gridcolor\":\"white\",\"gridwidth\":2,\"linecolor\":\"white\",\"showbackground\":true,\"ticks\":\"\",\"zerolinecolor\":\"white\"},\"yaxis\":{\"backgroundcolor\":\"#E5ECF6\",\"gridcolor\":\"white\",\"gridwidth\":2,\"linecolor\":\"white\",\"showbackground\":true,\"ticks\":\"\",\"zerolinecolor\":\"white\"},\"zaxis\":{\"backgroundcolor\":\"#E5ECF6\",\"gridcolor\":\"white\",\"gridwidth\":2,\"linecolor\":\"white\",\"showbackground\":true,\"ticks\":\"\",\"zerolinecolor\":\"white\"}},\"shapedefaults\":{\"line\":{\"color\":\"#2a3f5f\"}},\"ternary\":{\"aaxis\":{\"gridcolor\":\"white\",\"linecolor\":\"white\",\"ticks\":\"\"},\"baxis\":{\"gridcolor\":\"white\",\"linecolor\":\"white\",\"ticks\":\"\"},\"bgcolor\":\"#E5ECF6\",\"caxis\":{\"gridcolor\":\"white\",\"linecolor\":\"white\",\"ticks\":\"\"}},\"title\":{\"x\":0.05},\"xaxis\":{\"automargin\":true,\"gridcolor\":\"white\",\"linecolor\":\"white\",\"ticks\":\"\",\"title\":{\"standoff\":15},\"zerolinecolor\":\"white\",\"zerolinewidth\":2},\"yaxis\":{\"automargin\":true,\"gridcolor\":\"white\",\"linecolor\":\"white\",\"ticks\":\"\",\"title\":{\"standoff\":15},\"zerolinecolor\":\"white\",\"zerolinewidth\":2}}},\"xaxis\":{\"anchor\":\"y\",\"domain\":[0.0,1.0],\"title\":{\"text\":\"Qtd. Vencido em at\\u00e9 30 Dias\"}},\"yaxis\":{\"anchor\":\"x\",\"domain\":[0.0,1.0],\"title\":{\"text\":\"Valor Vencido at\\u00e9 30 Dias\"}},\"legend\":{\"tracegroupgap\":0},\"margin\":{\"t\":60}},                        {\"responsive\": true}                    ).then(function(){\n",
              "                            \n",
              "var gd = document.getElementById('1ae41c7d-3305-40dd-9af2-0e4bfc43954e');\n",
              "var x = new MutationObserver(function (mutations, observer) {{\n",
              "        var display = window.getComputedStyle(gd).display;\n",
              "        if (!display || display === 'none') {{\n",
              "            console.log([gd, 'removed!']);\n",
              "            Plotly.purge(gd);\n",
              "            observer.disconnect();\n",
              "        }}\n",
              "}});\n",
              "\n",
              "// Listen for the removal of the full notebook cells\n",
              "var notebookContainer = gd.closest('#notebook-container');\n",
              "if (notebookContainer) {{\n",
              "    x.observe(notebookContainer, {childList: true});\n",
              "}}\n",
              "\n",
              "// Listen for the clearing of the current output cell\n",
              "var outputEl = gd.closest('.output');\n",
              "if (outputEl) {{\n",
              "    x.observe(outputEl, {childList: true});\n",
              "}}\n",
              "\n",
              "                        })                };                            </script>        </div>\n",
              "</body>\n",
              "</html>"
            ]
          },
          "metadata": {}
        }
      ]
    },
    {
      "cell_type": "markdown",
      "source": [
        "Conforme os gráficos apresentados acima, quanto maior o prazo decorrido de dias vencidos, maior é o saldo devedor vencido decorrente."
      ],
      "metadata": {
        "id": "YAq8Ro4ODoPx"
      }
    },
    {
      "cell_type": "markdown",
      "source": [
        "# Quais tipos de operações apresentam o maior saldo devedor vencido?"
      ],
      "metadata": {
        "id": "vnCQWiGdfWSD"
      }
    },
    {
      "cell_type": "markdown",
      "source": [
        ""
      ],
      "metadata": {
        "id": "HP_nQXo4feQ5"
      }
    },
    {
      "cell_type": "code",
      "source": [
        "Saldo_devedor = Dados[[\"Valor Vencido até 30 Dias\", \"Finalidade Operação Crédito\"]].groupby(\"Finalidade Operação Crédito\").sum()\n",
        "print(Saldo_devedor)"
      ],
      "metadata": {
        "colab": {
          "base_uri": "https://localhost:8080/"
        },
        "id": "GSXJW4VCEYX7",
        "outputId": "47d22988-a6d9-4322-f6f0-0c73f8d07fbf"
      },
      "execution_count": 21,
      "outputs": [
        {
          "output_type": "stream",
          "name": "stdout",
          "text": [
            "                                         Valor Vencido até 30 Dias\n",
            "Finalidade Operação Crédito                                       \n",
            "ASSUNÇÃO DE DÍVIDA                                           43.93\n",
            "CAPITAL DE GIRO FIXO - 13/48                                  0.00\n",
            "CAPITAL DE GIRO FIXO ACIMA 365 D                              0.00\n",
            "CAPITAL DE GIRO FIXO FAMPE                                  637.88\n",
            "CAPITAL DE GIRO LONGO 25*                                  7193.10\n",
            "CAPITAL DE GIRO LONGO 39*                                   440.14\n",
            "CAPITAL DE GIRO ROTATIVO                                      0.00\n",
            "CONSIGNADO PRIVADO SICOOB PROMO WEEK                        213.79\n",
            "CRÉDITO AUTOMÁTICO CAP                                      359.45\n",
            "CRÉDITO AUTOMÁTICO ROTATIVO CAP                          427938.22\n",
            "CRÉDITO AUTOMÁTICO SICOOB CREDIBRASILIA                     207.01\n",
            "CRÉDITO PESSOAL 18*                                           0.00\n",
            "CRÉDITO PESSOAL SALÁRIO MAIS                                  7.33\n",
            "CRÉDITO PESSOAL SICOOB                                      254.43\n",
            "GIRO AUTOMÁTICO CAP SUP 365D                                459.97\n",
            "NEGÓCIO FACILITADO PF                                       171.92\n",
            "PORTABILIDADE CRÉDITO CONSIG.ESTADUAL*                      141.17\n",
            "PRONAMPE                                                  15260.18\n",
            "RENEG CAPITAL DE GIRO RES. 4782                               0.00\n",
            "RENEGOCIAÇÃO C/C E CARTÃO ACIMA DE 365D                       0.00\n",
            "RENEGOCIAÇÃO CARTÃO E CHEQUE ESPECIAL                         0.00\n",
            "RENEGOCIAÇÃO II                                             112.38\n",
            "RENEGOCIAÇÃO III                                          54212.54\n",
            "REPACTUAÇÃO CG ACIMA 365D PRICE                            3019.28\n",
            "REPACTUAÇÃO CG ATÉ 365D PRICE                                 5.04\n",
            "REPACTUAÇÃO CONSIG SIAPE FEDERAL                            503.68\n",
            "REPACTUAÇÃO CRÉDITO PESSOAL PRICE 4*                      72585.21\n",
            "REPACTUAÇÃO CRÉDITO PESSOAL PRICE 5*                       1031.76\n",
            "REPACTUAÇÃO CRÉDITO PESSOAL PRICE 7*                        221.58\n",
            "RO PRONAF CUSTEIO AGRÍCOLA REPASSE                            0.00\n",
            "RO PRONAMP CUSTEIO AGRÍCOLA REPASSE                           0.00\n",
            "RPL AGRO                                                      0.00\n",
            "RPL CUSTEIO AGRÍCOLA CCLA                                109494.00\n",
            "VEÍCULOS NOVOS PA                                           616.29\n",
            "VEÍCULOS USADOS PF                                          515.65\n"
          ]
        }
      ]
    },
    {
      "cell_type": "code",
      "source": [
        "Dados[[\"Valor Vencido até 30 Dias\", \"Finalidade Operação Crédito\"]].groupby(\"Finalidade Operação Crédito\").sum()"
      ],
      "metadata": {
        "colab": {
          "base_uri": "https://localhost:8080/",
          "height": 655
        },
        "id": "m7ut0StMTJsd",
        "outputId": "832ee1ca-8e19-40ed-ef5e-bfd095ad406e"
      },
      "execution_count": 74,
      "outputs": [
        {
          "output_type": "execute_result",
          "data": {
            "text/plain": [
              "                                         Valor Vencido até 30 Dias\n",
              "Finalidade Operação Crédito                                       \n",
              "ASSUNÇÃO DE DÍVIDA                                           43.93\n",
              "CAPITAL DE GIRO FIXO - 13/48                                  0.00\n",
              "CAPITAL DE GIRO FIXO ACIMA 365 D                              0.00\n",
              "CAPITAL DE GIRO FIXO FAMPE                                  637.88\n",
              "CAPITAL DE GIRO LONGO 25*                                  7193.10\n",
              "CAPITAL DE GIRO LONGO 39*                                   440.14\n",
              "CAPITAL DE GIRO ROTATIVO                                      0.00\n",
              "CONSIGNADO PRIVADO SICOOB PROMO WEEK                        213.79\n",
              "CRÉDITO AUTOMÁTICO CAP                                      359.45\n",
              "CRÉDITO AUTOMÁTICO ROTATIVO CAP                          427938.22\n",
              "CRÉDITO AUTOMÁTICO SICOOB CREDIBRASILIA                     207.01\n",
              "CRÉDITO PESSOAL 18*                                           0.00\n",
              "CRÉDITO PESSOAL SALÁRIO MAIS                                  7.33\n",
              "CRÉDITO PESSOAL SICOOB                                      254.43\n",
              "GIRO AUTOMÁTICO CAP SUP 365D                                459.97\n",
              "NEGÓCIO FACILITADO PF                                       171.92\n",
              "PORTABILIDADE CRÉDITO CONSIG.ESTADUAL*                      141.17\n",
              "PRONAMPE                                                  15260.18\n",
              "RENEG CAPITAL DE GIRO RES. 4782                               0.00\n",
              "RENEGOCIAÇÃO C/C E CARTÃO ACIMA DE 365D                       0.00\n",
              "RENEGOCIAÇÃO CARTÃO E CHEQUE ESPECIAL                         0.00\n",
              "RENEGOCIAÇÃO II                                             112.38\n",
              "RENEGOCIAÇÃO III                                          54212.54\n",
              "REPACTUAÇÃO CG ACIMA 365D PRICE                            3019.28\n",
              "REPACTUAÇÃO CG ATÉ 365D PRICE                                 5.04\n",
              "REPACTUAÇÃO CONSIG SIAPE FEDERAL                            503.68\n",
              "REPACTUAÇÃO CRÉDITO PESSOAL PRICE 4*                      72585.21\n",
              "REPACTUAÇÃO CRÉDITO PESSOAL PRICE 5*                       1031.76\n",
              "REPACTUAÇÃO CRÉDITO PESSOAL PRICE 7*                        221.58\n",
              "RO PRONAF CUSTEIO AGRÍCOLA REPASSE                            0.00\n",
              "RO PRONAMP CUSTEIO AGRÍCOLA REPASSE                           0.00\n",
              "RPL AGRO                                                      0.00\n",
              "RPL CUSTEIO AGRÍCOLA CCLA                                109494.00\n",
              "VEÍCULOS NOVOS PA                                           616.29\n",
              "VEÍCULOS USADOS PF                                          515.65"
            ],
            "text/html": [
              "\n",
              "  <div id=\"df-fb8d8efb-9eca-4a0a-ba60-93a317844c9d\">\n",
              "    <div class=\"colab-df-container\">\n",
              "      <div>\n",
              "<style scoped>\n",
              "    .dataframe tbody tr th:only-of-type {\n",
              "        vertical-align: middle;\n",
              "    }\n",
              "\n",
              "    .dataframe tbody tr th {\n",
              "        vertical-align: top;\n",
              "    }\n",
              "\n",
              "    .dataframe thead th {\n",
              "        text-align: right;\n",
              "    }\n",
              "</style>\n",
              "<table border=\"1\" class=\"dataframe\">\n",
              "  <thead>\n",
              "    <tr style=\"text-align: right;\">\n",
              "      <th></th>\n",
              "      <th>Valor Vencido até 30 Dias</th>\n",
              "    </tr>\n",
              "    <tr>\n",
              "      <th>Finalidade Operação Crédito</th>\n",
              "      <th></th>\n",
              "    </tr>\n",
              "  </thead>\n",
              "  <tbody>\n",
              "    <tr>\n",
              "      <th>ASSUNÇÃO DE DÍVIDA</th>\n",
              "      <td>43.93</td>\n",
              "    </tr>\n",
              "    <tr>\n",
              "      <th>CAPITAL DE GIRO FIXO - 13/48</th>\n",
              "      <td>0.00</td>\n",
              "    </tr>\n",
              "    <tr>\n",
              "      <th>CAPITAL DE GIRO FIXO ACIMA 365 D</th>\n",
              "      <td>0.00</td>\n",
              "    </tr>\n",
              "    <tr>\n",
              "      <th>CAPITAL DE GIRO FIXO FAMPE</th>\n",
              "      <td>637.88</td>\n",
              "    </tr>\n",
              "    <tr>\n",
              "      <th>CAPITAL DE GIRO LONGO 25*</th>\n",
              "      <td>7193.10</td>\n",
              "    </tr>\n",
              "    <tr>\n",
              "      <th>CAPITAL DE GIRO LONGO 39*</th>\n",
              "      <td>440.14</td>\n",
              "    </tr>\n",
              "    <tr>\n",
              "      <th>CAPITAL DE GIRO ROTATIVO</th>\n",
              "      <td>0.00</td>\n",
              "    </tr>\n",
              "    <tr>\n",
              "      <th>CONSIGNADO PRIVADO SICOOB PROMO WEEK</th>\n",
              "      <td>213.79</td>\n",
              "    </tr>\n",
              "    <tr>\n",
              "      <th>CRÉDITO AUTOMÁTICO CAP</th>\n",
              "      <td>359.45</td>\n",
              "    </tr>\n",
              "    <tr>\n",
              "      <th>CRÉDITO AUTOMÁTICO ROTATIVO CAP</th>\n",
              "      <td>427938.22</td>\n",
              "    </tr>\n",
              "    <tr>\n",
              "      <th>CRÉDITO AUTOMÁTICO SICOOB CREDIBRASILIA</th>\n",
              "      <td>207.01</td>\n",
              "    </tr>\n",
              "    <tr>\n",
              "      <th>CRÉDITO PESSOAL 18*</th>\n",
              "      <td>0.00</td>\n",
              "    </tr>\n",
              "    <tr>\n",
              "      <th>CRÉDITO PESSOAL SALÁRIO MAIS</th>\n",
              "      <td>7.33</td>\n",
              "    </tr>\n",
              "    <tr>\n",
              "      <th>CRÉDITO PESSOAL SICOOB</th>\n",
              "      <td>254.43</td>\n",
              "    </tr>\n",
              "    <tr>\n",
              "      <th>GIRO AUTOMÁTICO CAP SUP 365D</th>\n",
              "      <td>459.97</td>\n",
              "    </tr>\n",
              "    <tr>\n",
              "      <th>NEGÓCIO FACILITADO PF</th>\n",
              "      <td>171.92</td>\n",
              "    </tr>\n",
              "    <tr>\n",
              "      <th>PORTABILIDADE CRÉDITO CONSIG.ESTADUAL*</th>\n",
              "      <td>141.17</td>\n",
              "    </tr>\n",
              "    <tr>\n",
              "      <th>PRONAMPE</th>\n",
              "      <td>15260.18</td>\n",
              "    </tr>\n",
              "    <tr>\n",
              "      <th>RENEG CAPITAL DE GIRO RES. 4782</th>\n",
              "      <td>0.00</td>\n",
              "    </tr>\n",
              "    <tr>\n",
              "      <th>RENEGOCIAÇÃO C/C E CARTÃO ACIMA DE 365D</th>\n",
              "      <td>0.00</td>\n",
              "    </tr>\n",
              "    <tr>\n",
              "      <th>RENEGOCIAÇÃO CARTÃO E CHEQUE ESPECIAL</th>\n",
              "      <td>0.00</td>\n",
              "    </tr>\n",
              "    <tr>\n",
              "      <th>RENEGOCIAÇÃO II</th>\n",
              "      <td>112.38</td>\n",
              "    </tr>\n",
              "    <tr>\n",
              "      <th>RENEGOCIAÇÃO III</th>\n",
              "      <td>54212.54</td>\n",
              "    </tr>\n",
              "    <tr>\n",
              "      <th>REPACTUAÇÃO CG ACIMA 365D PRICE</th>\n",
              "      <td>3019.28</td>\n",
              "    </tr>\n",
              "    <tr>\n",
              "      <th>REPACTUAÇÃO CG ATÉ 365D PRICE</th>\n",
              "      <td>5.04</td>\n",
              "    </tr>\n",
              "    <tr>\n",
              "      <th>REPACTUAÇÃO CONSIG SIAPE FEDERAL</th>\n",
              "      <td>503.68</td>\n",
              "    </tr>\n",
              "    <tr>\n",
              "      <th>REPACTUAÇÃO CRÉDITO PESSOAL PRICE 4*</th>\n",
              "      <td>72585.21</td>\n",
              "    </tr>\n",
              "    <tr>\n",
              "      <th>REPACTUAÇÃO CRÉDITO PESSOAL PRICE 5*</th>\n",
              "      <td>1031.76</td>\n",
              "    </tr>\n",
              "    <tr>\n",
              "      <th>REPACTUAÇÃO CRÉDITO PESSOAL PRICE 7*</th>\n",
              "      <td>221.58</td>\n",
              "    </tr>\n",
              "    <tr>\n",
              "      <th>RO PRONAF CUSTEIO AGRÍCOLA REPASSE</th>\n",
              "      <td>0.00</td>\n",
              "    </tr>\n",
              "    <tr>\n",
              "      <th>RO PRONAMP CUSTEIO AGRÍCOLA REPASSE</th>\n",
              "      <td>0.00</td>\n",
              "    </tr>\n",
              "    <tr>\n",
              "      <th>RPL AGRO</th>\n",
              "      <td>0.00</td>\n",
              "    </tr>\n",
              "    <tr>\n",
              "      <th>RPL CUSTEIO AGRÍCOLA CCLA</th>\n",
              "      <td>109494.00</td>\n",
              "    </tr>\n",
              "    <tr>\n",
              "      <th>VEÍCULOS NOVOS PA</th>\n",
              "      <td>616.29</td>\n",
              "    </tr>\n",
              "    <tr>\n",
              "      <th>VEÍCULOS USADOS PF</th>\n",
              "      <td>515.65</td>\n",
              "    </tr>\n",
              "  </tbody>\n",
              "</table>\n",
              "</div>\n",
              "      <button class=\"colab-df-convert\" onclick=\"convertToInteractive('df-fb8d8efb-9eca-4a0a-ba60-93a317844c9d')\"\n",
              "              title=\"Convert this dataframe to an interactive table.\"\n",
              "              style=\"display:none;\">\n",
              "        \n",
              "  <svg xmlns=\"http://www.w3.org/2000/svg\" height=\"24px\"viewBox=\"0 0 24 24\"\n",
              "       width=\"24px\">\n",
              "    <path d=\"M0 0h24v24H0V0z\" fill=\"none\"/>\n",
              "    <path d=\"M18.56 5.44l.94 2.06.94-2.06 2.06-.94-2.06-.94-.94-2.06-.94 2.06-2.06.94zm-11 1L8.5 8.5l.94-2.06 2.06-.94-2.06-.94L8.5 2.5l-.94 2.06-2.06.94zm10 10l.94 2.06.94-2.06 2.06-.94-2.06-.94-.94-2.06-.94 2.06-2.06.94z\"/><path d=\"M17.41 7.96l-1.37-1.37c-.4-.4-.92-.59-1.43-.59-.52 0-1.04.2-1.43.59L10.3 9.45l-7.72 7.72c-.78.78-.78 2.05 0 2.83L4 21.41c.39.39.9.59 1.41.59.51 0 1.02-.2 1.41-.59l7.78-7.78 2.81-2.81c.8-.78.8-2.07 0-2.86zM5.41 20L4 18.59l7.72-7.72 1.47 1.35L5.41 20z\"/>\n",
              "  </svg>\n",
              "      </button>\n",
              "      \n",
              "  <style>\n",
              "    .colab-df-container {\n",
              "      display:flex;\n",
              "      flex-wrap:wrap;\n",
              "      gap: 12px;\n",
              "    }\n",
              "\n",
              "    .colab-df-convert {\n",
              "      background-color: #E8F0FE;\n",
              "      border: none;\n",
              "      border-radius: 50%;\n",
              "      cursor: pointer;\n",
              "      display: none;\n",
              "      fill: #1967D2;\n",
              "      height: 32px;\n",
              "      padding: 0 0 0 0;\n",
              "      width: 32px;\n",
              "    }\n",
              "\n",
              "    .colab-df-convert:hover {\n",
              "      background-color: #E2EBFA;\n",
              "      box-shadow: 0px 1px 2px rgba(60, 64, 67, 0.3), 0px 1px 3px 1px rgba(60, 64, 67, 0.15);\n",
              "      fill: #174EA6;\n",
              "    }\n",
              "\n",
              "    [theme=dark] .colab-df-convert {\n",
              "      background-color: #3B4455;\n",
              "      fill: #D2E3FC;\n",
              "    }\n",
              "\n",
              "    [theme=dark] .colab-df-convert:hover {\n",
              "      background-color: #434B5C;\n",
              "      box-shadow: 0px 1px 3px 1px rgba(0, 0, 0, 0.15);\n",
              "      filter: drop-shadow(0px 1px 2px rgba(0, 0, 0, 0.3));\n",
              "      fill: #FFFFFF;\n",
              "    }\n",
              "  </style>\n",
              "\n",
              "      <script>\n",
              "        const buttonEl =\n",
              "          document.querySelector('#df-fb8d8efb-9eca-4a0a-ba60-93a317844c9d button.colab-df-convert');\n",
              "        buttonEl.style.display =\n",
              "          google.colab.kernel.accessAllowed ? 'block' : 'none';\n",
              "\n",
              "        async function convertToInteractive(key) {\n",
              "          const element = document.querySelector('#df-fb8d8efb-9eca-4a0a-ba60-93a317844c9d');\n",
              "          const dataTable =\n",
              "            await google.colab.kernel.invokeFunction('convertToInteractive',\n",
              "                                                     [key], {});\n",
              "          if (!dataTable) return;\n",
              "\n",
              "          const docLinkHtml = 'Like what you see? Visit the ' +\n",
              "            '<a target=\"_blank\" href=https://colab.research.google.com/notebooks/data_table.ipynb>data table notebook</a>'\n",
              "            + ' to learn more about interactive tables.';\n",
              "          element.innerHTML = '';\n",
              "          dataTable['output_type'] = 'display_data';\n",
              "          await google.colab.output.renderOutput(dataTable, element);\n",
              "          const docLink = document.createElement('div');\n",
              "          docLink.innerHTML = docLinkHtml;\n",
              "          element.appendChild(docLink);\n",
              "        }\n",
              "      </script>\n",
              "    </div>\n",
              "  </div>\n",
              "  "
            ]
          },
          "metadata": {},
          "execution_count": 74
        }
      ]
    },
    {
      "cell_type": "markdown",
      "source": [
        "Conforme tabela acima, a linha que apresenta maior saldo devedor é a de Crédito Automático Rotativo Cap, logo infere-se que linhas cuja quais não possuem análise apresentam maior saldo devedor em vencido."
      ],
      "metadata": {
        "id": "D-VHD27XXl6i"
      }
    }
  ]
}